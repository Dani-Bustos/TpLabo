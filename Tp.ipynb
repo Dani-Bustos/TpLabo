{
 "cells": [
  {
   "cell_type": "code",
   "execution_count": null,
   "metadata": {},
   "outputs": [],
   "source": [
    "import numpy as np\n",
    "import seaborn as sns\n",
    "import seaborn.objects as so\n",
    "import pandas as pd\n",
    "\n",
    "sube2023 = pd.read_csv(\"dataSets/dat-ab-usos-2023.csv\")\n",
    "#ordeno las columnas del df\n",
    "\n",
    "print(sube2023.head())"
   ]
  },
  {
   "cell_type": "markdown",
   "metadata": {},
   "source": [
    "# Procesamiento de datos\n",
    "**Ejercicio 1**\n",
    "\n",
    "a) Visualizar el tipo de datos de cada columna. Transformar la columna DIA_TRANSPORTE\n",
    "para que sea reconocida como una fecha.\n",
    "Sugerencia: investigar la función to_datetime de pandas. Para completar el argumento\n",
    "format, revisar la documentación de datetime"
   ]
  },
  {
   "cell_type": "code",
   "execution_count": null,
   "metadata": {},
   "outputs": [],
   "source": [
    "sube2023[\"DIA_TRANSPORTE\"] = pd.to_datetime(sube2023[\"DIA_TRANSPORTE\"], format = '%Y-%m-%d')\n",
    "\n",
    "sube2023 = sube2023.rename(columns = {\"DIA_TRANSPORTE\" : \"FECHA\"})\n",
    "#Verificamos que se convirtio en el tipo que queremos\n",
    "sube2023.head()"
   ]
  },
  {
   "cell_type": "markdown",
   "metadata": {},
   "source": [
    " Agregar tres columnas al DataFrame:\n",
    "\n",
    "-  FECHA_DIA : debe indicar el nombre del día de la semana correspondiente a\n",
    "DIA_TRANSPORTE\n",
    "\n",
    "-  FECHA_ORDINAL : debe indicar el ordinal correspondiente a DIA_TRANSPORTE (por\n",
    "ejemplo, a 2023-01-01 le corresponde 1, a 2023-01-02 le corresponde 2 y así sucesiva-\n",
    "mente). Debe ser un entero (int).\n",
    "\n",
    "- . FECHA_MES : debe indicar el mes correspondiente a DIA_TRANSPORTE\n",
    "Sugerencia: investigar el método apply de DataFrame."
   ]
  },
  {
   "cell_type": "code",
   "execution_count": null,
   "metadata": {},
   "outputs": [],
   "source": [
    "#Tomamos solo el prefijo del dia\n",
    "sube2023[\"FECHA_DIA\"] = [fecha.day_name()[0:3] for fecha in sube2023[\"FECHA\"]]\n",
    "print(sube2023.head())\n"
   ]
  },
  {
   "cell_type": "code",
   "execution_count": null,
   "metadata": {},
   "outputs": [],
   "source": [
    "sube2023[\"FECHA_ORDINAL\"] = [fecha.day for fecha in sube2023[\"FECHA\"]]\n",
    "sube2023.head()"
   ]
  },
  {
   "cell_type": "code",
   "execution_count": null,
   "metadata": {},
   "outputs": [],
   "source": [
    "sube2023[\"FECHA_MES\"] = [fecha.month for fecha in sube2023[\"FECHA\"]]\n",
    "sube2023.head()"
   ]
  },
  {
   "cell_type": "markdown",
   "metadata": {},
   "source": [
    "**Ejercicio 2**\n",
    "\n",
    "Crear el DataFrame datos_amba, el cual sólo debe tener datos de AMBA y debe excluir datos\n",
    "preliminares. Además, al ejecutar datos_amba.head() debe observarse el siguiente orden y\n",
    "formato de columnas: "
   ]
  },
  {
   "cell_type": "code",
   "execution_count": null,
   "metadata": {},
   "outputs": [],
   "source": [
    "subeAmba = sube2023[(sube2023[\"AMBA\"] == \"SI\") & (sube2023[\"DATO_PRELIMINAR\"] == \"NO\")]\n",
    "datos_amba = subeAmba[[\"FECHA\",\"FECHA_DIA\",\"FECHA_MES\",\"FECHA_ORDINAL\",\"JURISDICCION\",\"LINEA\",\"CANTIDAD\", \"TIPO_TRANSPORTE\"]]\n",
    "#Renombro de acorde a lo pedido\n",
    "datos_amba = datos_amba.rename(columns = lambda s : \"pasajeros\" if s == \"CANTIDAD\"  else str.lower(s))  \n",
    "\n",
    "datos_amba.head()\n"
   ]
  },
  {
   "cell_type": "markdown",
   "metadata": {},
   "source": [
    "**Ejercicio 3.**\n",
    "\n",
    "Utilizando datos_amba ,identificar\n",
    "\n",
    "- la proporcion de la cantidad total anual de pasajeros que le corresponda a cada medio de transporte"
   ]
  },
  {
   "cell_type": "code",
   "execution_count": null,
   "metadata": {},
   "outputs": [],
   "source": [
    "#La cantidad de pasajeros en cada medio de trasporte, divido el total de pasajeros, \n",
    "#multiplicado por 100 para tener porcentajes del 0% al 100%\n",
    "PropXTransporte = (datos_amba.groupby(\"tipo_transporte\")[\"pasajeros\"].sum()/datos_amba[\"pasajeros\"].sum() )*100\n",
    "print(PropXTransporte)"
   ]
  },
  {
   "cell_type": "markdown",
   "metadata": {},
   "source": [
    "- La tupla (mes, línea de subte) donde viajó la mayor cantidad de pasajeros"
   ]
  },
  {
   "cell_type": "code",
   "execution_count": null,
   "metadata": {},
   "outputs": [],
   "source": [
    "#Me creo un nuevo dataset usando el de datos_amba, que contenga unicamente los datos relevantes,\n",
    "#agregando la cantidad de pasajeros por linea por mes\n",
    "GenteXLineaXMesDF= datos_amba[datos_amba[\"tipo_transporte\"] == \"SUBTE\"].groupby([\"fecha_mes\",\"linea\"])[\"pasajeros\"].sum().reset_index()\n",
    "\n",
    "#idxmax me da el indice del maximo en la fila cantidad\n",
    "filaMax = GenteXLineaXMesDF.loc[GenteXLineaXMesDF[\"pasajeros\"].idxmax()]\n",
    "MesLinea = (filaMax[\"fecha_mes\"] , filaMax[\"linea\"])\n",
    "print(MesLinea)\n",
    " "
   ]
  },
  {
   "cell_type": "markdown",
   "metadata": {},
   "source": [
    "- El día hábil con menor desvío estándar en cantidad de pasajeros\n",
    "\n",
    "\n"
   ]
  },
  {
   "cell_type": "code",
   "execution_count": null,
   "metadata": {},
   "outputs": [],
   "source": [
    "#Filtro por dias Hables\n",
    "amba_dias_habiles = datos_amba[(datos_amba[\"fecha_dia\"] != (\"Sat\")) & (datos_amba[\"fecha_dia\"] != (\"Sun\"))]\n",
    "#Tomo dataframe solo con las columnas que me interesan, agregando la cantidad de pasajeros por dia\n",
    "pasajeros_x_dia = amba_dias_habiles.groupby([\"fecha_dia\",\"fecha\"])[\"pasajeros\"].sum().reset_index()\n",
    "#A cada uno de los dias les tomo la desviacion estandar, y devuelvo el indice del minimo\n",
    "pasajeros_x_dia.groupby(\"fecha_dia\")[\"pasajeros\"].std().idxmin()"
   ]
  },
  {
   "cell_type": "markdown",
   "metadata": {},
   "source": [
    "# 4. Analisis Exploratorio"
   ]
  },
  {
   "cell_type": "code",
   "execution_count": null,
   "metadata": {},
   "outputs": [],
   "source": []
  },
  {
   "cell_type": "markdown",
   "metadata": {},
   "source": [
    "# 5. Modelado"
   ]
  },
  {
   "cell_type": "code",
   "execution_count": null,
   "metadata": {},
   "outputs": [],
   "source": [
    "datos_ColectivoJN = datos_amba[(datos_amba[\"tipo_transporte\"] == \"COLECTIVO\") & (datos_amba[\"jurisdiccion\"] == \"NACIONAL\") ]\n",
    "cols = datos_ColectivoJN.linea.unique() # Los nombres de las lineas de colectivo\n",
    "\n",
    "pasajeros_por_linea = pd.DataFrame()\n",
    "\n",
    "for col in cols:\n",
    "    datos_linea = datos_ColectivoJN[datos_ColectivoJN.linea == col][[\"fecha\", \"pasajeros\"]]\n",
    "                           \n",
    "    datos_linea = datos_linea.set_index(\"fecha\").rename(columns = {\"pasajeros\" : col })\n",
    "    pasajeros_por_linea = pd.concat([pasajeros_por_linea,datos_linea], axis = 1)\n",
    "\n",
    "display(pasajeros_por_linea.head())"
   ]
  }
 ],
 "metadata": {
  "kernelspec": {
   "display_name": "Python 3",
   "language": "python",
   "name": "python3"
  },
  "language_info": {
   "codemirror_mode": {
    "name": "ipython",
    "version": 3
   },
   "file_extension": ".py",
   "mimetype": "text/x-python",
   "name": "python",
   "nbconvert_exporter": "python",
   "pygments_lexer": "ipython3",
   "version": "3.10.12"
  }
 },
 "nbformat": 4,
 "nbformat_minor": 2
}
