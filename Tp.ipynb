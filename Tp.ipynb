{
 "cells": [
  {
   "cell_type": "code",
   "execution_count": null,
   "metadata": {},
   "outputs": [],
   "source": [
    "import seaborn as sns\n",
    "import pandas as pd\n",
    "\n",
    "a = pd.read_csv(\"dataSets/dat-ab-usos-2024.csv\")\n",
    " \n",
    "amba = a[(a[\"AMBA\"] == \"SI\") & (a[\"PROVINCIA\"] == \"BUENOS AIRES\")]\n",
    "\n",
    "print(amba[\"NOMBRE_EMPRESA\"].nunique())"
   ]
  }
 ],
 "metadata": {
  "language_info": {
   "name": "python"
  }
 },
 "nbformat": 4,
 "nbformat_minor": 2
}
