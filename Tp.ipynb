{
 "cells": [
  {
   "cell_type": "code",
   "execution_count": 34,
   "metadata": {},
   "outputs": [
    {
     "name": "stdout",
     "output_type": "stream",
     "text": [
      "  DIA_TRANSPORTE                                     NOMBRE_EMPRESA  \\\n",
      "0     2023-01-01  MUNICIPALIDAD DE MERCEDES PROVINCIA DE BUENOS ...   \n",
      "1     2023-01-01  MUNICIPALIDAD DE MERCEDES PROVINCIA DE BUENOS ...   \n",
      "2     2023-01-01                                 EMPRESA BATAN S.A.   \n",
      "3     2023-01-01               COMPAÑIA  DE TRANSPORTE VECINAL S.A.   \n",
      "4     2023-01-01           EMPRESA DE TRANSPORTE PERALTA RAMOS SACI   \n",
      "\n",
      "              LINEA AMBA TIPO_TRANSPORTE JURISDICCION     PROVINCIA  \\\n",
      "0                 1   SI       COLECTIVO    MUNICIPAL  BUENOS AIRES   \n",
      "1                2B   SI       COLECTIVO    MUNICIPAL  BUENOS AIRES   \n",
      "2  BS_AS_LINEA 715M   NO       COLECTIVO    MUNICIPAL  BUENOS AIRES   \n",
      "3   BS_AS_LINEA_326   SI       COLECTIVO   PROVINCIAL  BUENOS AIRES   \n",
      "4   BS_AS_LINEA_512   NO       COLECTIVO    MUNICIPAL  BUENOS AIRES   \n",
      "\n",
      "            MUNICIPIO  CANTIDAD DATO_PRELIMINAR  \n",
      "0            MERCEDES        61              NO  \n",
      "1            MERCEDES        11              NO  \n",
      "2  GENERAL PUEYRREDON      1707              NO  \n",
      "3                  SN       438              NO  \n",
      "4  GENERAL PUEYRREDON      1189              NO  \n"
     ]
    }
   ],
   "source": [
    "import seaborn as sns\n",
    "import pandas as pd\n",
    "\n",
    "sube2023 = pd.read_csv(\"dataSets/dat-ab-usos-2023.csv\")\n",
    "\n",
    "print(sube2023.head())"
   ]
  },
  {
   "cell_type": "markdown",
   "metadata": {},
   "source": [
    "Procesamiento de datos [2 pts.]\n",
    "1. (a) Visualizar el tipo de datos de cada columna. Transformar la columna DIA_TRANSPORTE\n",
    "para que sea reconocida como una fecha.\n",
    "Sugerencia: investigar la función to_datetime de pandas. Para completar el argumento\n",
    "format, revisar la documentación de datetime"
   ]
  },
  {
   "cell_type": "code",
   "execution_count": 35,
   "metadata": {},
   "outputs": [
    {
     "data": {
      "text/plain": [
       "pandas._libs.tslibs.timestamps.Timestamp"
      ]
     },
     "execution_count": 35,
     "metadata": {},
     "output_type": "execute_result"
    }
   ],
   "source": [
    "sube2023[\"DIA_TRANSPORTE\"] = pd.to_datetime(sube2023[\"DIA_TRANSPORTE\"], format = '%Y-%m-%d')\n",
    "#Verificamos que se convirtio en el tipo que queremos\n",
    "type(sube2023[\"DIA_TRANSPORTE\"][0])"
   ]
  },
  {
   "cell_type": "markdown",
   "metadata": {},
   "source": [
    "(b) Agregar tres columnas al DataFrame:\n",
    "\n",
    "i. FECHA_DIA : debe indicar el nombre del día de la semana correspondiente a\n",
    "DIA_TRANSPORTE\n",
    "\n",
    "ii. FECHA_ORDINAL : debe indicar el ordinal correspondiente a DIA_TRANSPORTE (por\n",
    "ejemplo, a 2023-01-01 le corresponde 1, a 2023-01-02 le corresponde 2 y así sucesiva-\n",
    "mente). Debe ser un entero (int).\n",
    "\n",
    "iii. FECHA_MES : debe indicar el mes correspondiente a DIA_TRANSPORTE\n",
    "Sugerencia: investigar el método apply de DataFrame."
   ]
  },
  {
   "cell_type": "code",
   "execution_count": 47,
   "metadata": {},
   "outputs": [
    {
     "name": "stdout",
     "output_type": "stream",
     "text": [
      "  DIA_TRANSPORTE                                     NOMBRE_EMPRESA  \\\n",
      "0     2023-01-01  MUNICIPALIDAD DE MERCEDES PROVINCIA DE BUENOS ...   \n",
      "1     2023-01-01  MUNICIPALIDAD DE MERCEDES PROVINCIA DE BUENOS ...   \n",
      "2     2023-01-01                                 EMPRESA BATAN S.A.   \n",
      "3     2023-01-01               COMPAÑIA  DE TRANSPORTE VECINAL S.A.   \n",
      "4     2023-01-01           EMPRESA DE TRANSPORTE PERALTA RAMOS SACI   \n",
      "\n",
      "              LINEA AMBA TIPO_TRANSPORTE JURISDICCION     PROVINCIA  \\\n",
      "0                 1   SI       COLECTIVO    MUNICIPAL  BUENOS AIRES   \n",
      "1                2B   SI       COLECTIVO    MUNICIPAL  BUENOS AIRES   \n",
      "2  BS_AS_LINEA 715M   NO       COLECTIVO    MUNICIPAL  BUENOS AIRES   \n",
      "3   BS_AS_LINEA_326   SI       COLECTIVO   PROVINCIAL  BUENOS AIRES   \n",
      "4   BS_AS_LINEA_512   NO       COLECTIVO    MUNICIPAL  BUENOS AIRES   \n",
      "\n",
      "            MUNICIPIO  CANTIDAD DATO_PRELIMINAR FECHA_DIA  \n",
      "0            MERCEDES        61              NO       Sun  \n",
      "1            MERCEDES        11              NO       Sun  \n",
      "2  GENERAL PUEYRREDON      1707              NO       Sun  \n",
      "3                  SN       438              NO       Sun  \n",
      "4  GENERAL PUEYRREDON      1189              NO       Sun  \n"
     ]
    }
   ],
   "source": [
    "#Tomamos solo el prefijo del dia\n",
    "sube2023[\"FECHA_DIA\"] = [fecha.day_name()[0:3] for fecha in sube2023[\"DIA_TRANSPORTE\"]]\n",
    "print(sube2023.head())\n"
   ]
  },
  {
   "cell_type": "markdown",
   "metadata": {},
   "source": [
    "ii. FECHA_ORDINAL : debe indicar el ordinal correspondiente a DIA_TRANSPORTE (por\n",
    "ejemplo, a 2023-01-01 le corresponde 1, a 2023-01-02 le corresponde 2 y así sucesiva-\n",
    "mente). Debe ser un entero (int)."
   ]
  },
  {
   "cell_type": "code",
   "execution_count": null,
   "metadata": {},
   "outputs": [],
   "source": []
  },
  {
   "cell_type": "markdown",
   "metadata": {},
   "source": [
    "iii. FECHA_MES : debe indicar el mes correspondiente a DIA_TRANSPORTE\n",
    "Sugerencia: investigar el método apply de DataFrame."
   ]
  }
 ],
 "metadata": {
  "kernelspec": {
   "display_name": "Python 3",
   "language": "python",
   "name": "python3"
  },
  "language_info": {
   "codemirror_mode": {
    "name": "ipython",
    "version": 3
   },
   "file_extension": ".py",
   "mimetype": "text/x-python",
   "name": "python",
   "nbconvert_exporter": "python",
   "pygments_lexer": "ipython3",
   "version": "3.10.12"
  }
 },
 "nbformat": 4,
 "nbformat_minor": 2
}
