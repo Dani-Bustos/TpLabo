{
 "cells": [
  {
   "cell_type": "markdown",
   "metadata": {},
   "source": [
    "## Laboratorio de Datos:  Trabajo Práctico N°1 \n",
    "### Autores: \n",
    "- Daniel Bustos\n",
    "- Paula Alvez\n"
   ]
  },
  {
   "cell_type": "code",
   "execution_count": 1,
   "metadata": {},
   "outputs": [],
   "source": [
    "import numpy as np\n",
    "import seaborn as sns\n",
    "import matplotlib.pyplot as plt\n",
    "import seaborn.objects as so\n",
    "import pandas as pd\n",
    "from sklearn import linear_model    # Herramientas de modelos lineales\n",
    "from sklearn.metrics import mean_squared_error, r2_score    # Medidas de desempeño\n",
    "from sklearn.preprocessing import PolynomialFeatures    # Herramientas de polinomios\n",
    "\n",
    "from sklearn.model_selection import train_test_split, KFold, cross_val_score\n",
    "\n",
    "from formulaic import Formula\n",
    "\n",
    "#Importo los datasets que usare despues\n",
    "sube2020 = pd.read_csv(\"dat-ab-sube-2020.csv\")\n",
    "sube2021 = pd.read_csv(\"dat-ab-sube-2021.csv\")\n",
    "sube2022 = pd.read_csv(\"dat-ab-sube-2022.csv\")\n",
    "sube2023 = pd.read_csv(\"dat-ab-usos-2023.csv\")\n",
    "\n"
   ]
  },
  {
   "cell_type": "markdown",
   "metadata": {},
   "source": [
    "# Procesamiento de datos\n",
    "**Ejercicio 1**\n",
    "\n",
    "a) Visualizamos el tipo de datos de cada columna"
   ]
  },
  {
   "cell_type": "code",
   "execution_count": 2,
   "metadata": {},
   "outputs": [
    {
     "name": "stdout",
     "output_type": "stream",
     "text": [
      "la columna DIA_TRANSPORTE tiene tipo <class 'str'>\n",
      "la columna NOMBRE_EMPRESA tiene tipo <class 'str'>\n",
      "la columna LINEA tiene tipo <class 'str'>\n",
      "la columna AMBA tiene tipo <class 'str'>\n",
      "la columna TIPO_TRANSPORTE tiene tipo <class 'str'>\n",
      "la columna JURISDICCION tiene tipo <class 'str'>\n",
      "la columna PROVINCIA tiene tipo <class 'str'>\n",
      "la columna MUNICIPIO tiene tipo <class 'str'>\n",
      "la columna CANTIDAD tiene tipo <class 'numpy.int64'>\n",
      "la columna DATO_PRELIMINAR tiene tipo <class 'str'>\n"
     ]
    }
   ],
   "source": [
    "#Lo hacemos de esta manera, ya que si usamos el .dtype , nos dice que son todos objetos\n",
    "for columna in sube2023.columns:\n",
    "    print(\"la columna {0} tiene tipo {1}\".format(columna,type(sube2023[columna][0])))"
   ]
  },
  {
   "cell_type": "markdown",
   "metadata": {},
   "source": [
    "Transformalos la columna DIA_TRANSPORTE a formato datetime"
   ]
  },
  {
   "cell_type": "code",
   "execution_count": 3,
   "metadata": {},
   "outputs": [
    {
     "data": {
      "text/html": [
       "<div>\n",
       "<style scoped>\n",
       "    .dataframe tbody tr th:only-of-type {\n",
       "        vertical-align: middle;\n",
       "    }\n",
       "\n",
       "    .dataframe tbody tr th {\n",
       "        vertical-align: top;\n",
       "    }\n",
       "\n",
       "    .dataframe thead th {\n",
       "        text-align: right;\n",
       "    }\n",
       "</style>\n",
       "<table border=\"1\" class=\"dataframe\">\n",
       "  <thead>\n",
       "    <tr style=\"text-align: right;\">\n",
       "      <th></th>\n",
       "      <th>FECHA</th>\n",
       "      <th>NOMBRE_EMPRESA</th>\n",
       "      <th>LINEA</th>\n",
       "      <th>AMBA</th>\n",
       "      <th>TIPO_TRANSPORTE</th>\n",
       "      <th>JURISDICCION</th>\n",
       "      <th>PROVINCIA</th>\n",
       "      <th>MUNICIPIO</th>\n",
       "      <th>CANTIDAD</th>\n",
       "      <th>DATO_PRELIMINAR</th>\n",
       "    </tr>\n",
       "  </thead>\n",
       "  <tbody>\n",
       "    <tr>\n",
       "      <th>0</th>\n",
       "      <td>2023-01-01</td>\n",
       "      <td>MUNICIPALIDAD DE MERCEDES PROVINCIA DE BUENOS ...</td>\n",
       "      <td>1</td>\n",
       "      <td>SI</td>\n",
       "      <td>COLECTIVO</td>\n",
       "      <td>MUNICIPAL</td>\n",
       "      <td>BUENOS AIRES</td>\n",
       "      <td>MERCEDES</td>\n",
       "      <td>61</td>\n",
       "      <td>NO</td>\n",
       "    </tr>\n",
       "    <tr>\n",
       "      <th>1</th>\n",
       "      <td>2023-01-01</td>\n",
       "      <td>MUNICIPALIDAD DE MERCEDES PROVINCIA DE BUENOS ...</td>\n",
       "      <td>2B</td>\n",
       "      <td>SI</td>\n",
       "      <td>COLECTIVO</td>\n",
       "      <td>MUNICIPAL</td>\n",
       "      <td>BUENOS AIRES</td>\n",
       "      <td>MERCEDES</td>\n",
       "      <td>11</td>\n",
       "      <td>NO</td>\n",
       "    </tr>\n",
       "    <tr>\n",
       "      <th>2</th>\n",
       "      <td>2023-01-01</td>\n",
       "      <td>EMPRESA BATAN S.A.</td>\n",
       "      <td>BS_AS_LINEA 715M</td>\n",
       "      <td>NO</td>\n",
       "      <td>COLECTIVO</td>\n",
       "      <td>MUNICIPAL</td>\n",
       "      <td>BUENOS AIRES</td>\n",
       "      <td>GENERAL PUEYRREDON</td>\n",
       "      <td>1707</td>\n",
       "      <td>NO</td>\n",
       "    </tr>\n",
       "    <tr>\n",
       "      <th>3</th>\n",
       "      <td>2023-01-01</td>\n",
       "      <td>COMPAÑIA  DE TRANSPORTE VECINAL S.A.</td>\n",
       "      <td>BS_AS_LINEA_326</td>\n",
       "      <td>SI</td>\n",
       "      <td>COLECTIVO</td>\n",
       "      <td>PROVINCIAL</td>\n",
       "      <td>BUENOS AIRES</td>\n",
       "      <td>SN</td>\n",
       "      <td>438</td>\n",
       "      <td>NO</td>\n",
       "    </tr>\n",
       "    <tr>\n",
       "      <th>4</th>\n",
       "      <td>2023-01-01</td>\n",
       "      <td>EMPRESA DE TRANSPORTE PERALTA RAMOS SACI</td>\n",
       "      <td>BS_AS_LINEA_512</td>\n",
       "      <td>NO</td>\n",
       "      <td>COLECTIVO</td>\n",
       "      <td>MUNICIPAL</td>\n",
       "      <td>BUENOS AIRES</td>\n",
       "      <td>GENERAL PUEYRREDON</td>\n",
       "      <td>1189</td>\n",
       "      <td>NO</td>\n",
       "    </tr>\n",
       "  </tbody>\n",
       "</table>\n",
       "</div>"
      ],
      "text/plain": [
       "       FECHA                                     NOMBRE_EMPRESA  \\\n",
       "0 2023-01-01  MUNICIPALIDAD DE MERCEDES PROVINCIA DE BUENOS ...   \n",
       "1 2023-01-01  MUNICIPALIDAD DE MERCEDES PROVINCIA DE BUENOS ...   \n",
       "2 2023-01-01                                 EMPRESA BATAN S.A.   \n",
       "3 2023-01-01               COMPAÑIA  DE TRANSPORTE VECINAL S.A.   \n",
       "4 2023-01-01           EMPRESA DE TRANSPORTE PERALTA RAMOS SACI   \n",
       "\n",
       "              LINEA AMBA TIPO_TRANSPORTE JURISDICCION     PROVINCIA  \\\n",
       "0                 1   SI       COLECTIVO    MUNICIPAL  BUENOS AIRES   \n",
       "1                2B   SI       COLECTIVO    MUNICIPAL  BUENOS AIRES   \n",
       "2  BS_AS_LINEA 715M   NO       COLECTIVO    MUNICIPAL  BUENOS AIRES   \n",
       "3   BS_AS_LINEA_326   SI       COLECTIVO   PROVINCIAL  BUENOS AIRES   \n",
       "4   BS_AS_LINEA_512   NO       COLECTIVO    MUNICIPAL  BUENOS AIRES   \n",
       "\n",
       "            MUNICIPIO  CANTIDAD DATO_PRELIMINAR  \n",
       "0            MERCEDES        61              NO  \n",
       "1            MERCEDES        11              NO  \n",
       "2  GENERAL PUEYRREDON      1707              NO  \n",
       "3                  SN       438              NO  \n",
       "4  GENERAL PUEYRREDON      1189              NO  "
      ]
     },
     "metadata": {},
     "output_type": "display_data"
    }
   ],
   "source": [
    "sube2023[\"DIA_TRANSPORTE\"] = pd.to_datetime(sube2023[\"DIA_TRANSPORTE\"], format = '%Y-%m-%d')\n",
    "\n",
    "sube2023 = sube2023.rename(columns = {\"DIA_TRANSPORTE\" : \"FECHA\"})\n",
    "#Verificamos que se convirtio en el tipo que queremos\n",
    "display(sube2023.head())"
   ]
  },
  {
   "cell_type": "markdown",
   "metadata": {},
   "source": [
    " Agregamos tres columnas al DataFrame:\n",
    "\n",
    "-  FECHA_DIA : debe indicar el nombre del día de la semana correspondiente a\n",
    "DIA_TRANSPORTE\n",
    "\n",
    "\n"
   ]
  },
  {
   "cell_type": "code",
   "execution_count": 4,
   "metadata": {},
   "outputs": [
    {
     "data": {
      "text/html": [
       "<div>\n",
       "<style scoped>\n",
       "    .dataframe tbody tr th:only-of-type {\n",
       "        vertical-align: middle;\n",
       "    }\n",
       "\n",
       "    .dataframe tbody tr th {\n",
       "        vertical-align: top;\n",
       "    }\n",
       "\n",
       "    .dataframe thead th {\n",
       "        text-align: right;\n",
       "    }\n",
       "</style>\n",
       "<table border=\"1\" class=\"dataframe\">\n",
       "  <thead>\n",
       "    <tr style=\"text-align: right;\">\n",
       "      <th></th>\n",
       "      <th>FECHA</th>\n",
       "      <th>NOMBRE_EMPRESA</th>\n",
       "      <th>LINEA</th>\n",
       "      <th>AMBA</th>\n",
       "      <th>TIPO_TRANSPORTE</th>\n",
       "      <th>JURISDICCION</th>\n",
       "      <th>PROVINCIA</th>\n",
       "      <th>MUNICIPIO</th>\n",
       "      <th>CANTIDAD</th>\n",
       "      <th>DATO_PRELIMINAR</th>\n",
       "      <th>FECHA_DIA</th>\n",
       "    </tr>\n",
       "  </thead>\n",
       "  <tbody>\n",
       "    <tr>\n",
       "      <th>0</th>\n",
       "      <td>2023-01-01</td>\n",
       "      <td>MUNICIPALIDAD DE MERCEDES PROVINCIA DE BUENOS ...</td>\n",
       "      <td>1</td>\n",
       "      <td>SI</td>\n",
       "      <td>COLECTIVO</td>\n",
       "      <td>MUNICIPAL</td>\n",
       "      <td>BUENOS AIRES</td>\n",
       "      <td>MERCEDES</td>\n",
       "      <td>61</td>\n",
       "      <td>NO</td>\n",
       "      <td>Sun</td>\n",
       "    </tr>\n",
       "    <tr>\n",
       "      <th>1</th>\n",
       "      <td>2023-01-01</td>\n",
       "      <td>MUNICIPALIDAD DE MERCEDES PROVINCIA DE BUENOS ...</td>\n",
       "      <td>2B</td>\n",
       "      <td>SI</td>\n",
       "      <td>COLECTIVO</td>\n",
       "      <td>MUNICIPAL</td>\n",
       "      <td>BUENOS AIRES</td>\n",
       "      <td>MERCEDES</td>\n",
       "      <td>11</td>\n",
       "      <td>NO</td>\n",
       "      <td>Sun</td>\n",
       "    </tr>\n",
       "    <tr>\n",
       "      <th>2</th>\n",
       "      <td>2023-01-01</td>\n",
       "      <td>EMPRESA BATAN S.A.</td>\n",
       "      <td>BS_AS_LINEA 715M</td>\n",
       "      <td>NO</td>\n",
       "      <td>COLECTIVO</td>\n",
       "      <td>MUNICIPAL</td>\n",
       "      <td>BUENOS AIRES</td>\n",
       "      <td>GENERAL PUEYRREDON</td>\n",
       "      <td>1707</td>\n",
       "      <td>NO</td>\n",
       "      <td>Sun</td>\n",
       "    </tr>\n",
       "    <tr>\n",
       "      <th>3</th>\n",
       "      <td>2023-01-01</td>\n",
       "      <td>COMPAÑIA  DE TRANSPORTE VECINAL S.A.</td>\n",
       "      <td>BS_AS_LINEA_326</td>\n",
       "      <td>SI</td>\n",
       "      <td>COLECTIVO</td>\n",
       "      <td>PROVINCIAL</td>\n",
       "      <td>BUENOS AIRES</td>\n",
       "      <td>SN</td>\n",
       "      <td>438</td>\n",
       "      <td>NO</td>\n",
       "      <td>Sun</td>\n",
       "    </tr>\n",
       "    <tr>\n",
       "      <th>4</th>\n",
       "      <td>2023-01-01</td>\n",
       "      <td>EMPRESA DE TRANSPORTE PERALTA RAMOS SACI</td>\n",
       "      <td>BS_AS_LINEA_512</td>\n",
       "      <td>NO</td>\n",
       "      <td>COLECTIVO</td>\n",
       "      <td>MUNICIPAL</td>\n",
       "      <td>BUENOS AIRES</td>\n",
       "      <td>GENERAL PUEYRREDON</td>\n",
       "      <td>1189</td>\n",
       "      <td>NO</td>\n",
       "      <td>Sun</td>\n",
       "    </tr>\n",
       "  </tbody>\n",
       "</table>\n",
       "</div>"
      ],
      "text/plain": [
       "       FECHA                                     NOMBRE_EMPRESA  \\\n",
       "0 2023-01-01  MUNICIPALIDAD DE MERCEDES PROVINCIA DE BUENOS ...   \n",
       "1 2023-01-01  MUNICIPALIDAD DE MERCEDES PROVINCIA DE BUENOS ...   \n",
       "2 2023-01-01                                 EMPRESA BATAN S.A.   \n",
       "3 2023-01-01               COMPAÑIA  DE TRANSPORTE VECINAL S.A.   \n",
       "4 2023-01-01           EMPRESA DE TRANSPORTE PERALTA RAMOS SACI   \n",
       "\n",
       "              LINEA AMBA TIPO_TRANSPORTE JURISDICCION     PROVINCIA  \\\n",
       "0                 1   SI       COLECTIVO    MUNICIPAL  BUENOS AIRES   \n",
       "1                2B   SI       COLECTIVO    MUNICIPAL  BUENOS AIRES   \n",
       "2  BS_AS_LINEA 715M   NO       COLECTIVO    MUNICIPAL  BUENOS AIRES   \n",
       "3   BS_AS_LINEA_326   SI       COLECTIVO   PROVINCIAL  BUENOS AIRES   \n",
       "4   BS_AS_LINEA_512   NO       COLECTIVO    MUNICIPAL  BUENOS AIRES   \n",
       "\n",
       "            MUNICIPIO  CANTIDAD DATO_PRELIMINAR FECHA_DIA  \n",
       "0            MERCEDES        61              NO       Sun  \n",
       "1            MERCEDES        11              NO       Sun  \n",
       "2  GENERAL PUEYRREDON      1707              NO       Sun  \n",
       "3                  SN       438              NO       Sun  \n",
       "4  GENERAL PUEYRREDON      1189              NO       Sun  "
      ]
     },
     "metadata": {},
     "output_type": "display_data"
    }
   ],
   "source": [
    "#Tomamos solo el prefijo del dia\n",
    "sube2023[\"FECHA_DIA\"] = [fecha.day_name()[0:3] for fecha in sube2023[\"FECHA\"]]\n",
    "display(sube2023.head())\n"
   ]
  },
  {
   "cell_type": "markdown",
   "metadata": {},
   "source": [
    "-  FECHA_ORDINAL : debe indicar el ordinal correspondiente a DIA_TRANSPORTE "
   ]
  },
  {
   "cell_type": "code",
   "execution_count": 5,
   "metadata": {},
   "outputs": [
    {
     "data": {
      "text/html": [
       "<div>\n",
       "<style scoped>\n",
       "    .dataframe tbody tr th:only-of-type {\n",
       "        vertical-align: middle;\n",
       "    }\n",
       "\n",
       "    .dataframe tbody tr th {\n",
       "        vertical-align: top;\n",
       "    }\n",
       "\n",
       "    .dataframe thead th {\n",
       "        text-align: right;\n",
       "    }\n",
       "</style>\n",
       "<table border=\"1\" class=\"dataframe\">\n",
       "  <thead>\n",
       "    <tr style=\"text-align: right;\">\n",
       "      <th></th>\n",
       "      <th>FECHA</th>\n",
       "      <th>NOMBRE_EMPRESA</th>\n",
       "      <th>LINEA</th>\n",
       "      <th>AMBA</th>\n",
       "      <th>TIPO_TRANSPORTE</th>\n",
       "      <th>JURISDICCION</th>\n",
       "      <th>PROVINCIA</th>\n",
       "      <th>MUNICIPIO</th>\n",
       "      <th>CANTIDAD</th>\n",
       "      <th>DATO_PRELIMINAR</th>\n",
       "      <th>FECHA_DIA</th>\n",
       "      <th>FECHA_ORDINAL</th>\n",
       "    </tr>\n",
       "  </thead>\n",
       "  <tbody>\n",
       "    <tr>\n",
       "      <th>0</th>\n",
       "      <td>2023-01-01</td>\n",
       "      <td>MUNICIPALIDAD DE MERCEDES PROVINCIA DE BUENOS ...</td>\n",
       "      <td>1</td>\n",
       "      <td>SI</td>\n",
       "      <td>COLECTIVO</td>\n",
       "      <td>MUNICIPAL</td>\n",
       "      <td>BUENOS AIRES</td>\n",
       "      <td>MERCEDES</td>\n",
       "      <td>61</td>\n",
       "      <td>NO</td>\n",
       "      <td>Sun</td>\n",
       "      <td>1</td>\n",
       "    </tr>\n",
       "    <tr>\n",
       "      <th>1</th>\n",
       "      <td>2023-01-01</td>\n",
       "      <td>MUNICIPALIDAD DE MERCEDES PROVINCIA DE BUENOS ...</td>\n",
       "      <td>2B</td>\n",
       "      <td>SI</td>\n",
       "      <td>COLECTIVO</td>\n",
       "      <td>MUNICIPAL</td>\n",
       "      <td>BUENOS AIRES</td>\n",
       "      <td>MERCEDES</td>\n",
       "      <td>11</td>\n",
       "      <td>NO</td>\n",
       "      <td>Sun</td>\n",
       "      <td>1</td>\n",
       "    </tr>\n",
       "    <tr>\n",
       "      <th>2</th>\n",
       "      <td>2023-01-01</td>\n",
       "      <td>EMPRESA BATAN S.A.</td>\n",
       "      <td>BS_AS_LINEA 715M</td>\n",
       "      <td>NO</td>\n",
       "      <td>COLECTIVO</td>\n",
       "      <td>MUNICIPAL</td>\n",
       "      <td>BUENOS AIRES</td>\n",
       "      <td>GENERAL PUEYRREDON</td>\n",
       "      <td>1707</td>\n",
       "      <td>NO</td>\n",
       "      <td>Sun</td>\n",
       "      <td>1</td>\n",
       "    </tr>\n",
       "    <tr>\n",
       "      <th>3</th>\n",
       "      <td>2023-01-01</td>\n",
       "      <td>COMPAÑIA  DE TRANSPORTE VECINAL S.A.</td>\n",
       "      <td>BS_AS_LINEA_326</td>\n",
       "      <td>SI</td>\n",
       "      <td>COLECTIVO</td>\n",
       "      <td>PROVINCIAL</td>\n",
       "      <td>BUENOS AIRES</td>\n",
       "      <td>SN</td>\n",
       "      <td>438</td>\n",
       "      <td>NO</td>\n",
       "      <td>Sun</td>\n",
       "      <td>1</td>\n",
       "    </tr>\n",
       "    <tr>\n",
       "      <th>4</th>\n",
       "      <td>2023-01-01</td>\n",
       "      <td>EMPRESA DE TRANSPORTE PERALTA RAMOS SACI</td>\n",
       "      <td>BS_AS_LINEA_512</td>\n",
       "      <td>NO</td>\n",
       "      <td>COLECTIVO</td>\n",
       "      <td>MUNICIPAL</td>\n",
       "      <td>BUENOS AIRES</td>\n",
       "      <td>GENERAL PUEYRREDON</td>\n",
       "      <td>1189</td>\n",
       "      <td>NO</td>\n",
       "      <td>Sun</td>\n",
       "      <td>1</td>\n",
       "    </tr>\n",
       "  </tbody>\n",
       "</table>\n",
       "</div>"
      ],
      "text/plain": [
       "       FECHA                                     NOMBRE_EMPRESA  \\\n",
       "0 2023-01-01  MUNICIPALIDAD DE MERCEDES PROVINCIA DE BUENOS ...   \n",
       "1 2023-01-01  MUNICIPALIDAD DE MERCEDES PROVINCIA DE BUENOS ...   \n",
       "2 2023-01-01                                 EMPRESA BATAN S.A.   \n",
       "3 2023-01-01               COMPAÑIA  DE TRANSPORTE VECINAL S.A.   \n",
       "4 2023-01-01           EMPRESA DE TRANSPORTE PERALTA RAMOS SACI   \n",
       "\n",
       "              LINEA AMBA TIPO_TRANSPORTE JURISDICCION     PROVINCIA  \\\n",
       "0                 1   SI       COLECTIVO    MUNICIPAL  BUENOS AIRES   \n",
       "1                2B   SI       COLECTIVO    MUNICIPAL  BUENOS AIRES   \n",
       "2  BS_AS_LINEA 715M   NO       COLECTIVO    MUNICIPAL  BUENOS AIRES   \n",
       "3   BS_AS_LINEA_326   SI       COLECTIVO   PROVINCIAL  BUENOS AIRES   \n",
       "4   BS_AS_LINEA_512   NO       COLECTIVO    MUNICIPAL  BUENOS AIRES   \n",
       "\n",
       "            MUNICIPIO  CANTIDAD DATO_PRELIMINAR FECHA_DIA  FECHA_ORDINAL  \n",
       "0            MERCEDES        61              NO       Sun              1  \n",
       "1            MERCEDES        11              NO       Sun              1  \n",
       "2  GENERAL PUEYRREDON      1707              NO       Sun              1  \n",
       "3                  SN       438              NO       Sun              1  \n",
       "4  GENERAL PUEYRREDON      1189              NO       Sun              1  "
      ]
     },
     "metadata": {},
     "output_type": "display_data"
    }
   ],
   "source": [
    "sube2023[\"FECHA_ORDINAL\"] = [fecha.day for fecha in sube2023[\"FECHA\"]]\n",
    "display(sube2023.head())"
   ]
  },
  {
   "cell_type": "markdown",
   "metadata": {},
   "source": [
    "\n",
    "-  FECHA_MES : debe indicar el mes correspondiente a DIA_TRANSPORTE\n"
   ]
  },
  {
   "cell_type": "code",
   "execution_count": 6,
   "metadata": {},
   "outputs": [
    {
     "data": {
      "text/html": [
       "<div>\n",
       "<style scoped>\n",
       "    .dataframe tbody tr th:only-of-type {\n",
       "        vertical-align: middle;\n",
       "    }\n",
       "\n",
       "    .dataframe tbody tr th {\n",
       "        vertical-align: top;\n",
       "    }\n",
       "\n",
       "    .dataframe thead th {\n",
       "        text-align: right;\n",
       "    }\n",
       "</style>\n",
       "<table border=\"1\" class=\"dataframe\">\n",
       "  <thead>\n",
       "    <tr style=\"text-align: right;\">\n",
       "      <th></th>\n",
       "      <th>FECHA</th>\n",
       "      <th>NOMBRE_EMPRESA</th>\n",
       "      <th>LINEA</th>\n",
       "      <th>AMBA</th>\n",
       "      <th>TIPO_TRANSPORTE</th>\n",
       "      <th>JURISDICCION</th>\n",
       "      <th>PROVINCIA</th>\n",
       "      <th>MUNICIPIO</th>\n",
       "      <th>CANTIDAD</th>\n",
       "      <th>DATO_PRELIMINAR</th>\n",
       "      <th>FECHA_DIA</th>\n",
       "      <th>FECHA_ORDINAL</th>\n",
       "      <th>FECHA_MES</th>\n",
       "    </tr>\n",
       "  </thead>\n",
       "  <tbody>\n",
       "    <tr>\n",
       "      <th>0</th>\n",
       "      <td>2023-01-01</td>\n",
       "      <td>MUNICIPALIDAD DE MERCEDES PROVINCIA DE BUENOS ...</td>\n",
       "      <td>1</td>\n",
       "      <td>SI</td>\n",
       "      <td>COLECTIVO</td>\n",
       "      <td>MUNICIPAL</td>\n",
       "      <td>BUENOS AIRES</td>\n",
       "      <td>MERCEDES</td>\n",
       "      <td>61</td>\n",
       "      <td>NO</td>\n",
       "      <td>Sun</td>\n",
       "      <td>1</td>\n",
       "      <td>1</td>\n",
       "    </tr>\n",
       "    <tr>\n",
       "      <th>1</th>\n",
       "      <td>2023-01-01</td>\n",
       "      <td>MUNICIPALIDAD DE MERCEDES PROVINCIA DE BUENOS ...</td>\n",
       "      <td>2B</td>\n",
       "      <td>SI</td>\n",
       "      <td>COLECTIVO</td>\n",
       "      <td>MUNICIPAL</td>\n",
       "      <td>BUENOS AIRES</td>\n",
       "      <td>MERCEDES</td>\n",
       "      <td>11</td>\n",
       "      <td>NO</td>\n",
       "      <td>Sun</td>\n",
       "      <td>1</td>\n",
       "      <td>1</td>\n",
       "    </tr>\n",
       "    <tr>\n",
       "      <th>2</th>\n",
       "      <td>2023-01-01</td>\n",
       "      <td>EMPRESA BATAN S.A.</td>\n",
       "      <td>BS_AS_LINEA 715M</td>\n",
       "      <td>NO</td>\n",
       "      <td>COLECTIVO</td>\n",
       "      <td>MUNICIPAL</td>\n",
       "      <td>BUENOS AIRES</td>\n",
       "      <td>GENERAL PUEYRREDON</td>\n",
       "      <td>1707</td>\n",
       "      <td>NO</td>\n",
       "      <td>Sun</td>\n",
       "      <td>1</td>\n",
       "      <td>1</td>\n",
       "    </tr>\n",
       "    <tr>\n",
       "      <th>3</th>\n",
       "      <td>2023-01-01</td>\n",
       "      <td>COMPAÑIA  DE TRANSPORTE VECINAL S.A.</td>\n",
       "      <td>BS_AS_LINEA_326</td>\n",
       "      <td>SI</td>\n",
       "      <td>COLECTIVO</td>\n",
       "      <td>PROVINCIAL</td>\n",
       "      <td>BUENOS AIRES</td>\n",
       "      <td>SN</td>\n",
       "      <td>438</td>\n",
       "      <td>NO</td>\n",
       "      <td>Sun</td>\n",
       "      <td>1</td>\n",
       "      <td>1</td>\n",
       "    </tr>\n",
       "    <tr>\n",
       "      <th>4</th>\n",
       "      <td>2023-01-01</td>\n",
       "      <td>EMPRESA DE TRANSPORTE PERALTA RAMOS SACI</td>\n",
       "      <td>BS_AS_LINEA_512</td>\n",
       "      <td>NO</td>\n",
       "      <td>COLECTIVO</td>\n",
       "      <td>MUNICIPAL</td>\n",
       "      <td>BUENOS AIRES</td>\n",
       "      <td>GENERAL PUEYRREDON</td>\n",
       "      <td>1189</td>\n",
       "      <td>NO</td>\n",
       "      <td>Sun</td>\n",
       "      <td>1</td>\n",
       "      <td>1</td>\n",
       "    </tr>\n",
       "  </tbody>\n",
       "</table>\n",
       "</div>"
      ],
      "text/plain": [
       "       FECHA                                     NOMBRE_EMPRESA  \\\n",
       "0 2023-01-01  MUNICIPALIDAD DE MERCEDES PROVINCIA DE BUENOS ...   \n",
       "1 2023-01-01  MUNICIPALIDAD DE MERCEDES PROVINCIA DE BUENOS ...   \n",
       "2 2023-01-01                                 EMPRESA BATAN S.A.   \n",
       "3 2023-01-01               COMPAÑIA  DE TRANSPORTE VECINAL S.A.   \n",
       "4 2023-01-01           EMPRESA DE TRANSPORTE PERALTA RAMOS SACI   \n",
       "\n",
       "              LINEA AMBA TIPO_TRANSPORTE JURISDICCION     PROVINCIA  \\\n",
       "0                 1   SI       COLECTIVO    MUNICIPAL  BUENOS AIRES   \n",
       "1                2B   SI       COLECTIVO    MUNICIPAL  BUENOS AIRES   \n",
       "2  BS_AS_LINEA 715M   NO       COLECTIVO    MUNICIPAL  BUENOS AIRES   \n",
       "3   BS_AS_LINEA_326   SI       COLECTIVO   PROVINCIAL  BUENOS AIRES   \n",
       "4   BS_AS_LINEA_512   NO       COLECTIVO    MUNICIPAL  BUENOS AIRES   \n",
       "\n",
       "            MUNICIPIO  CANTIDAD DATO_PRELIMINAR FECHA_DIA  FECHA_ORDINAL  \\\n",
       "0            MERCEDES        61              NO       Sun              1   \n",
       "1            MERCEDES        11              NO       Sun              1   \n",
       "2  GENERAL PUEYRREDON      1707              NO       Sun              1   \n",
       "3                  SN       438              NO       Sun              1   \n",
       "4  GENERAL PUEYRREDON      1189              NO       Sun              1   \n",
       "\n",
       "   FECHA_MES  \n",
       "0          1  \n",
       "1          1  \n",
       "2          1  \n",
       "3          1  \n",
       "4          1  "
      ]
     },
     "metadata": {},
     "output_type": "display_data"
    }
   ],
   "source": [
    "sube2023[\"FECHA_MES\"] = [fecha.month for fecha in sube2023[\"FECHA\"]]\n",
    "display(sube2023.head())"
   ]
  },
  {
   "cell_type": "markdown",
   "metadata": {},
   "source": [
    "**Ejercicio 2**\n",
    "\n",
    "Creo el dataFrame de datos_amba segun lo pedido. Cambiamos el nombre \"datos_amba\" sugerido en el tp por \"datos_amba2023\" con el año\n",
    "incluido pues más adelante usaremos este mismo codigo para los dataframes de 2020, 2021 y 2022."
   ]
  },
  {
   "cell_type": "code",
   "execution_count": 7,
   "metadata": {},
   "outputs": [
    {
     "data": {
      "text/html": [
       "<div>\n",
       "<style scoped>\n",
       "    .dataframe tbody tr th:only-of-type {\n",
       "        vertical-align: middle;\n",
       "    }\n",
       "\n",
       "    .dataframe tbody tr th {\n",
       "        vertical-align: top;\n",
       "    }\n",
       "\n",
       "    .dataframe thead th {\n",
       "        text-align: right;\n",
       "    }\n",
       "</style>\n",
       "<table border=\"1\" class=\"dataframe\">\n",
       "  <thead>\n",
       "    <tr style=\"text-align: right;\">\n",
       "      <th></th>\n",
       "      <th>fecha</th>\n",
       "      <th>fecha_dia</th>\n",
       "      <th>fecha_mes</th>\n",
       "      <th>fecha_ordinal</th>\n",
       "      <th>jurisdiccion</th>\n",
       "      <th>linea</th>\n",
       "      <th>pasajeros</th>\n",
       "      <th>tipo_transporte</th>\n",
       "    </tr>\n",
       "  </thead>\n",
       "  <tbody>\n",
       "    <tr>\n",
       "      <th>0</th>\n",
       "      <td>2023-01-01</td>\n",
       "      <td>Sun</td>\n",
       "      <td>1</td>\n",
       "      <td>1</td>\n",
       "      <td>MUNICIPAL</td>\n",
       "      <td>1</td>\n",
       "      <td>61</td>\n",
       "      <td>COLECTIVO</td>\n",
       "    </tr>\n",
       "    <tr>\n",
       "      <th>1</th>\n",
       "      <td>2023-01-01</td>\n",
       "      <td>Sun</td>\n",
       "      <td>1</td>\n",
       "      <td>1</td>\n",
       "      <td>MUNICIPAL</td>\n",
       "      <td>2B</td>\n",
       "      <td>11</td>\n",
       "      <td>COLECTIVO</td>\n",
       "    </tr>\n",
       "    <tr>\n",
       "      <th>3</th>\n",
       "      <td>2023-01-01</td>\n",
       "      <td>Sun</td>\n",
       "      <td>1</td>\n",
       "      <td>1</td>\n",
       "      <td>PROVINCIAL</td>\n",
       "      <td>BS_AS_LINEA_326</td>\n",
       "      <td>438</td>\n",
       "      <td>COLECTIVO</td>\n",
       "    </tr>\n",
       "    <tr>\n",
       "      <th>5</th>\n",
       "      <td>2023-01-01</td>\n",
       "      <td>Sun</td>\n",
       "      <td>1</td>\n",
       "      <td>1</td>\n",
       "      <td>MUNICIPAL</td>\n",
       "      <td>BS_AS_LINEA_514</td>\n",
       "      <td>3067</td>\n",
       "      <td>COLECTIVO</td>\n",
       "    </tr>\n",
       "    <tr>\n",
       "      <th>6</th>\n",
       "      <td>2023-01-01</td>\n",
       "      <td>Sun</td>\n",
       "      <td>1</td>\n",
       "      <td>1</td>\n",
       "      <td>MUNICIPAL</td>\n",
       "      <td>BS_AS_LINEA_522</td>\n",
       "      <td>332</td>\n",
       "      <td>COLECTIVO</td>\n",
       "    </tr>\n",
       "  </tbody>\n",
       "</table>\n",
       "</div>"
      ],
      "text/plain": [
       "       fecha fecha_dia  fecha_mes  fecha_ordinal jurisdiccion  \\\n",
       "0 2023-01-01       Sun          1              1    MUNICIPAL   \n",
       "1 2023-01-01       Sun          1              1    MUNICIPAL   \n",
       "3 2023-01-01       Sun          1              1   PROVINCIAL   \n",
       "5 2023-01-01       Sun          1              1    MUNICIPAL   \n",
       "6 2023-01-01       Sun          1              1    MUNICIPAL   \n",
       "\n",
       "             linea  pasajeros tipo_transporte  \n",
       "0                1         61       COLECTIVO  \n",
       "1               2B         11       COLECTIVO  \n",
       "3  BS_AS_LINEA_326        438       COLECTIVO  \n",
       "5  BS_AS_LINEA_514       3067       COLECTIVO  \n",
       "6  BS_AS_LINEA_522        332       COLECTIVO  "
      ]
     },
     "execution_count": 7,
     "metadata": {},
     "output_type": "execute_result"
    }
   ],
   "source": [
    "\n",
    "subeAmba2023 = sube2023[(sube2023[\"AMBA\"] == \"SI\") & (sube2023[\"DATO_PRELIMINAR\"] == \"NO\")]\n",
    "datos_amba2023 = subeAmba2023[[\"FECHA\",\"FECHA_DIA\",\"FECHA_MES\",\"FECHA_ORDINAL\",\"JURISDICCION\",\"LINEA\",\"CANTIDAD\", \"TIPO_TRANSPORTE\"]]\n",
    "#Renombro de acorde a aparece en ela foto de la cosigna del trabajo practico\n",
    "datos_amba2023 = datos_amba2023.rename(columns = lambda s : \"pasajeros\" if s == \"CANTIDAD\"  else str.lower(s))  \n",
    "\n",
    "datos_amba2023.head()\n"
   ]
  },
  {
   "cell_type": "markdown",
   "metadata": {},
   "source": [
    "**Ejercicio 3.**\n",
    "\n",
    "Utilizamos datos_amba, para identificar\n",
    "\n",
    "- la proporcion de la cantidad total anual de pasajeros que le corresponda a cada medio de transporte"
   ]
  },
  {
   "cell_type": "code",
   "execution_count": 8,
   "metadata": {},
   "outputs": [
    {
     "name": "stdout",
     "output_type": "stream",
     "text": [
      "El COLECTIVO tiene un porcentaje de 83.76448752526633 del total\n",
      "El SUBTE tiene un porcentaje de 6.809700356136905 del total\n",
      "El TREN tiene un porcentaje de 9.425812118596767 del total\n"
     ]
    }
   ],
   "source": [
    "#La cantidad de pasajeros en cada medio de trasporte, divido el total de pasajeros, \n",
    "#multiplicado por 100 para tener porcentajes del 0% al 100%\n",
    "PropXTransporte = (datos_amba2023.groupby(\"tipo_transporte\")[\"pasajeros\"].sum()/datos_amba2023[\"pasajeros\"].sum() )*100\n",
    "for transporte,porcentaje in PropXTransporte.items():\n",
    "    print(\"El {0} tiene un porcentaje de {1} del total\".format(transporte,porcentaje))"
   ]
  },
  {
   "cell_type": "markdown",
   "metadata": {},
   "source": [
    "- La tupla (mes, línea de subte) donde viajó la mayor cantidad de pasajeros"
   ]
  },
  {
   "cell_type": "code",
   "execution_count": 9,
   "metadata": {},
   "outputs": [
    {
     "name": "stdout",
     "output_type": "stream",
     "text": [
      "(8, 'LINEA_B')\n",
      "La linea con mas pasajeros es la LINEA_B en el el mes numero 8\n"
     ]
    }
   ],
   "source": [
    "#Me creo un nuevo dataset usando el de datos_amba, que contenga unicamente los datos relevantes,\n",
    "#agregando la cantidad de pasajeros por linea por mes\n",
    "GenteXLineaXMesDF= datos_amba2023[datos_amba2023[\"tipo_transporte\"] == \"SUBTE\"].groupby([\"fecha_mes\",\"linea\"])[\"pasajeros\"].sum().reset_index()\n",
    "\n",
    "#idxmax me da el indice del maximo en la fila cantidad\n",
    "filaMax = GenteXLineaXMesDF.loc[GenteXLineaXMesDF[\"pasajeros\"].idxmax()]\n",
    "MesLinea = (filaMax[\"fecha_mes\"] , filaMax[\"linea\"])\n",
    "print(MesLinea)\n",
    "print(\"La linea con mas pasajeros es la {0} en el el mes numero {1}\".format(MesLinea[1],MesLinea[0]))\n",
    " "
   ]
  },
  {
   "cell_type": "markdown",
   "metadata": {},
   "source": [
    "- El día hábil con menor desvío estándar en cantidad de pasajeros\n",
    "\n",
    "\n"
   ]
  },
  {
   "cell_type": "code",
   "execution_count": 10,
   "metadata": {},
   "outputs": [
    {
     "name": "stdout",
     "output_type": "stream",
     "text": [
      "El prefijo del dia habil con menor desviacion estandard es Wed\n"
     ]
    }
   ],
   "source": [
    "#Filtro por dias Hables\n",
    "amba_dias_habiles = datos_amba2023[(datos_amba2023[\"fecha_dia\"] != (\"Sat\")) & (datos_amba2023[\"fecha_dia\"] != (\"Sun\"))]\n",
    "#Tomo dataframe solo con las columnas que me interesan, agregando la cantidad de pasajeros por dia\n",
    "pasajeros_x_dia = amba_dias_habiles.groupby([\"fecha_dia\",\"fecha\"])[\"pasajeros\"].sum().reset_index()\n",
    "#A cada uno de los dias les tomo la desviacion estandar, y devuelvo el indice del minimo\n",
    "menor_desviacion = pasajeros_x_dia.groupby(\"fecha_dia\")[\"pasajeros\"].std().idxmin()\n",
    "print(\"El prefijo del dia habil con menor desviacion estandard es {0}\".format(menor_desviacion))"
   ]
  },
  {
   "cell_type": "markdown",
   "metadata": {},
   "source": [
    "# 4. Analisis Exploratorio"
   ]
  },
  {
   "cell_type": "markdown",
   "metadata": {},
   "source": [
    "Primero realizaremos algunos preprocesados previos que usaremos mas tarde"
   ]
  },
  {
   "cell_type": "code",
   "execution_count": 11,
   "metadata": {},
   "outputs": [],
   "source": [
    "def procesa_datos_sube(df) -> pd.DataFrame:\n",
    "    df = df.rename(columns={\"DIA_TRANSPORTE\": \"FECHA\"})\n",
    "    df[\"FECHA\"] = pd.to_datetime(df[\"FECHA\"], format='%Y-%m-%d')\n",
    "    df[\"FECHA_DIA\"] = df[\"FECHA\"].dt.day_name().str[:3]\n",
    "    df[\"FECHA_ORDINAL\"] = df[\"FECHA\"].dt.day\n",
    "    df[\"FECHA_MES\"] = df[\"FECHA\"].dt.month\n",
    "    df[\"MES_AÑO\"] = df[\"FECHA\"].dt.strftime(\"%b-%y\")\n",
    "    return df\n",
    "\n",
    "def procesa_datos_amba(df) -> pd.DataFrame:\n",
    "    data_amba = df[(df[\"AMBA\"] == \"SI\") & (df[\"DATO_PRELIMINAR\"] == \"NO\")]\n",
    "    columnas_elegidas = [\"FECHA\",\"FECHA_DIA\", \"FECHA_MES\", \"FECHA_ORDINAL\", \"JURISDICCION\", \"LINEA\", \"CANTIDAD\", \"TIPO_TRANSPORTE\"]\n",
    "    data_amba = data_amba[columnas_elegidas]\n",
    "    data_amba = data_amba.rename(columns=lambda s: \"pasajeros\" if s == \"CANTIDAD\" else str.lower(s))\n",
    "    \n",
    "    return data_amba\n",
    "\n",
    "\n",
    "sube2020 = procesa_datos_sube(sube2020)\n",
    "sube2021 = procesa_datos_sube(sube2021)\n",
    "sube2022 = procesa_datos_sube(sube2022)\n",
    "sube2023 = procesa_datos_sube(sube2023)\n",
    "\n",
    "\n",
    "\n",
    "datos_amba2020 = procesa_datos_amba(sube2020)\n",
    "datos_amba2021 = procesa_datos_amba(sube2021)\n",
    "datos_amba2022 = procesa_datos_amba(sube2022)\n",
    "\n",
    "\n",
    "subesTodosLosAños = [sube2020,sube2021,sube2022,sube2023]\n",
    "\n",
    "#Esta funcion sera de utiliad para filtrar y agrupar todo junto mas tarde\n",
    "def filtrarYAgrupar(df,filtro,agrupamiento = lambda x:x) -> pd.DataFrame:\n",
    "    res = agrupamiento(df[filtro(df)])\n",
    "    return res\n"
   ]
  },
  {
   "cell_type": "markdown",
   "metadata": {},
   "source": [
    "***PRIMERA HIPÓTESIS***\n",
    "\n",
    "Afortunadamente, hoy en día podemos decir que la pandemia COVID-19 es algo del pasado \"cercano\", pero pasado en fin.\n",
    "\n",
    "Si bien hace tiempo que las cosas retomaron su ritmo natural, lo que más costó reestablecerse fueron los bares, cines, teatros, clubs, conciertos... entre otros lugares recreativos que uno suele atender los fines de semana.\n",
    "\n",
    "En un principio, nuestra primera idea para entrar un poco en calor y conocer más los datos, fue analizar el uso de transporte público centrandonos en los fines de semana a lo largo de 2020 hasta 2023 con la intención de poder observar como afectó la pandemia a los días mas \"sociales\" de la semana en cuanto a movimiento de gente y transporte.\n",
    "\n",
    "Nuestra hipótesis es que la cantidad de pasajeros que viajan los días sábados y domingos a lo largo de estos 4 años va a aumentar de manera creciente. Observando su mayor pendiente en 2021 y como esta se va normalizando en 2022/2023, ya que fue allí cuando la vida social volvió a su plenitud.\n",
    "\n",
    "Veamos con qué nos encontramos en el medio de este proceso..."
   ]
  },
  {
   "cell_type": "markdown",
   "metadata": {},
   "source": [
    "Primero filtramos los df por los fines de semana. "
   ]
  },
  {
   "cell_type": "markdown",
   "metadata": {},
   "source": [
    "*¡Observación!*\n",
    "\n",
    "De ahora en adelante vamos a descartar los meses ENERO y FEBRERO de 2020, ya que los consideramos un valor outlier para este análisis. \n",
    "La razón es que nos interesa visualizar el comportamiento del uso del transporte **a partir** de la pandemia."
   ]
  },
  {
   "cell_type": "code",
   "execution_count": 12,
   "metadata": {},
   "outputs": [
    {
     "data": {
      "text/html": [
       "<div>\n",
       "<style scoped>\n",
       "    .dataframe tbody tr th:only-of-type {\n",
       "        vertical-align: middle;\n",
       "    }\n",
       "\n",
       "    .dataframe tbody tr th {\n",
       "        vertical-align: top;\n",
       "    }\n",
       "\n",
       "    .dataframe thead th {\n",
       "        text-align: right;\n",
       "    }\n",
       "</style>\n",
       "<table border=\"1\" class=\"dataframe\">\n",
       "  <thead>\n",
       "    <tr style=\"text-align: right;\">\n",
       "      <th></th>\n",
       "      <th>FECHA_MES</th>\n",
       "      <th>MES_AÑO</th>\n",
       "      <th>CANTIDAD</th>\n",
       "    </tr>\n",
       "  </thead>\n",
       "  <tbody>\n",
       "    <tr>\n",
       "      <th>0</th>\n",
       "      <td>3</td>\n",
       "      <td>Mar-20</td>\n",
       "      <td>16101189.5</td>\n",
       "    </tr>\n",
       "    <tr>\n",
       "      <th>1</th>\n",
       "      <td>4</td>\n",
       "      <td>Apr-20</td>\n",
       "      <td>4525860.5</td>\n",
       "    </tr>\n",
       "    <tr>\n",
       "      <th>2</th>\n",
       "      <td>5</td>\n",
       "      <td>May-20</td>\n",
       "      <td>7400387.5</td>\n",
       "    </tr>\n",
       "    <tr>\n",
       "      <th>3</th>\n",
       "      <td>6</td>\n",
       "      <td>Jun-20</td>\n",
       "      <td>6305895.0</td>\n",
       "    </tr>\n",
       "    <tr>\n",
       "      <th>4</th>\n",
       "      <td>7</td>\n",
       "      <td>Jul-20</td>\n",
       "      <td>5535607.0</td>\n",
       "    </tr>\n",
       "  </tbody>\n",
       "</table>\n",
       "</div>"
      ],
      "text/plain": [
       "   FECHA_MES MES_AÑO    CANTIDAD\n",
       "0          3  Mar-20  16101189.5\n",
       "1          4  Apr-20   4525860.5\n",
       "2          5  May-20   7400387.5\n",
       "3          6  Jun-20   6305895.0\n",
       "4          7  Jul-20   5535607.0"
      ]
     },
     "execution_count": 12,
     "metadata": {},
     "output_type": "execute_result"
    }
   ],
   "source": [
    "#agrupamos los df por cantidad de pasajeros *POR MES*\n",
    "f_findes = lambda x : (x[\"FECHA_DIA\"] == \"Sat\") | (x[\"FECHA_DIA\"] == \"Sun\")\n",
    "g_cantXMes = lambda x :x.groupby([\"FECHA_MES\",\"MES_AÑO\"])[\"CANTIDAD\"].sum().reset_index()\n",
    "findesXAño = [filtrarYAgrupar(df,f_findes,g_cantXMes) for df in subesTodosLosAños]\n",
    "#Concatenamos todos los años\n",
    "findes = pd.concat(findesXAño,axis = 0).reset_index(drop=True)\n",
    "#Dividimos para tener los numeros del finde promedio\n",
    "findes[\"CANTIDAD\"] = findes[\"CANTIDAD\"]/2\n",
    "#Descartamos enero y febrero del 2020\n",
    "findes = findes.drop([0, 1]).reset_index(drop=True)\n",
    "findes.head()"
   ]
  },
  {
   "cell_type": "markdown",
   "metadata": {},
   "source": [
    "El momento de la verdad... ¡A graficar!"
   ]
  },
  {
   "cell_type": "code",
   "execution_count": 13,
   "metadata": {},
   "outputs": [
    {
     "data": {
      "image/png": "[encoded data removed]",
      "text/plain": [
       "<Figure size 640x480 with 1 Axes>"
      ]
     },
     "metadata": {},
     "output_type": "display_data"
    }
   ],
   "source": [
    "#Rotamos los indices del eje x\n",
    "fig, ax = plt.subplots()\n",
    "ax.xaxis.set_tick_params(rotation=90)\n",
    "\n",
    "g = (\n",
    "so.Plot(findes, \"MES_AÑO\", \"CANTIDAD\")\n",
    ".add(so.Bars(color = \"violet\"))\n",
    ".add(so.Line(color = \"purple\", linewidth = 4), so.PolyFit(4))\n",
    ".label(title = \"Fines de semana | Período 2020-2023\", x=\"Meses\", y=\"Pasajeros\")\n",
    ".layout(size=(20, 10))\n",
    ".on(ax)\n",
    ")\n",
    "g.show()"
   ]
  },
  {
   "cell_type": "markdown",
   "metadata": {},
   "source": [
    "¡Parece que el gráfico sigue la idea que teníamos! ¡Que alegría!!! ¡Que pedazos de científicos forma la UBA!!!!!!"
   ]
  },
  {
   "cell_type": "markdown",
   "metadata": {},
   "source": [
    "*Antes de sacar conclusiones apresuradas*, pensemos si hay algun otro valor además de nuestra hipótesis que pueda estar afectando a este crecimiento constante...\n",
    "\n",
    "Veamos el comportamiento pero sin distinción de días."
   ]
  },
  {
   "cell_type": "code",
   "execution_count": 14,
   "metadata": {},
   "outputs": [
    {
     "data": {
      "text/html": [
       "<div>\n",
       "<style scoped>\n",
       "    .dataframe tbody tr th:only-of-type {\n",
       "        vertical-align: middle;\n",
       "    }\n",
       "\n",
       "    .dataframe tbody tr th {\n",
       "        vertical-align: top;\n",
       "    }\n",
       "\n",
       "    .dataframe thead th {\n",
       "        text-align: right;\n",
       "    }\n",
       "</style>\n",
       "<table border=\"1\" class=\"dataframe\">\n",
       "  <thead>\n",
       "    <tr style=\"text-align: right;\">\n",
       "      <th></th>\n",
       "      <th>FECHA_MES</th>\n",
       "      <th>MES_AÑO</th>\n",
       "      <th>CANTIDAD</th>\n",
       "    </tr>\n",
       "  </thead>\n",
       "  <tbody>\n",
       "    <tr>\n",
       "      <th>0</th>\n",
       "      <td>3</td>\n",
       "      <td>Mar-20</td>\n",
       "      <td>3.175639e+07</td>\n",
       "    </tr>\n",
       "    <tr>\n",
       "      <th>1</th>\n",
       "      <td>4</td>\n",
       "      <td>Apr-20</td>\n",
       "      <td>8.455406e+06</td>\n",
       "    </tr>\n",
       "    <tr>\n",
       "      <th>2</th>\n",
       "      <td>5</td>\n",
       "      <td>May-20</td>\n",
       "      <td>1.110768e+07</td>\n",
       "    </tr>\n",
       "    <tr>\n",
       "      <th>3</th>\n",
       "      <td>6</td>\n",
       "      <td>Jun-20</td>\n",
       "      <td>1.199901e+07</td>\n",
       "    </tr>\n",
       "    <tr>\n",
       "      <th>4</th>\n",
       "      <td>7</td>\n",
       "      <td>Jul-20</td>\n",
       "      <td>1.079345e+07</td>\n",
       "    </tr>\n",
       "  </tbody>\n",
       "</table>\n",
       "</div>"
      ],
      "text/plain": [
       "   FECHA_MES MES_AÑO      CANTIDAD\n",
       "0          3  Mar-20  3.175639e+07\n",
       "1          4  Apr-20  8.455406e+06\n",
       "2          5  May-20  1.110768e+07\n",
       "3          6  Jun-20  1.199901e+07\n",
       "4          7  Jul-20  1.079345e+07"
      ]
     },
     "execution_count": 14,
     "metadata": {},
     "output_type": "execute_result"
    }
   ],
   "source": [
    "semana_completa = [df.groupby([\"FECHA_MES\", \"MES_AÑO\"])[\"CANTIDAD\"].sum().reset_index() for df in subesTodosLosAños]\n",
    "semana_completa = pd.concat(semana_completa, axis = 0).reset_index(drop=True)\n",
    "semana_completa = semana_completa.drop([0, 1]).reset_index(drop=True)\n",
    "#Tomamos la semana promedio\n",
    "semana_completa[\"CANTIDAD\"] = semana_completa[\"CANTIDAD\"]/7\n",
    "semana_completa.head()"
   ]
  },
  {
   "cell_type": "code",
   "execution_count": 15,
   "metadata": {},
   "outputs": [
    {
     "data": {
      "image/png": "[encoded data removed]",
      "text/plain": [
       "<Figure size 640x480 with 1 Axes>"
      ]
     },
     "metadata": {},
     "output_type": "display_data"
    }
   ],
   "source": [
    "#Rotamos los nombres de los meses para ayudar la lectura\n",
    "fig, ax = plt.subplots()\n",
    "ax.xaxis.set_tick_params(rotation=90)\n",
    "grafico = (\n",
    "so.Plot(semana_completa, \"MES_AÑO\", \"CANTIDAD\")\n",
    ".add(so.Bars(color = \"skyblue\"))\n",
    ".add(so.Line(color = \"dodgerblue\", linewidth = 4), so.PolyFit(4))\n",
    ".label(x=\"Meses\", y=\"Pasajeros\", title = \"Pasajeros x Mes | Semana Completa | 2020-2023\")\n",
    ".scale(width=12, height=6)\n",
    ".on(ax)\n",
    ")\n",
    "grafico.show()"
   ]
  },
  {
   "cell_type": "markdown",
   "metadata": {},
   "source": [
    "Pero que raro... también se vé un aumento notablemente creciente del uso del transporte sin distinción de día. Acá hay gato encerrado, vamos a googlear un poco..."
   ]
  },
  {
   "cell_type": "markdown",
   "metadata": {},
   "source": [
    "<img src=\"sube.noticias.png\">\n"
   ]
  },
  {
   "cell_type": "markdown",
   "metadata": {},
   "source": [
    "*Fuente: argentina.gob.ar/ - noticias del año 2023*"
   ]
  },
  {
   "cell_type": "markdown",
   "metadata": {},
   "source": [
    "-_-'\n",
    "\n",
    "Al parecer a lo largo del tiempo en el que estuvimos analizando el aumento del uso del transporte, también fue aumentando la implementación de la tarjeta SUBE en distintos puntos del país, lo cual está afectando directamente a nuestro caso.\n",
    "\n",
    "De hecho, si prestamos más atención a la cantidad de filas que tienen los 4 datasets originales por separado..."
   ]
  },
  {
   "cell_type": "code",
   "execution_count": 16,
   "metadata": {},
   "outputs": [
    {
     "name": "stdout",
     "output_type": "stream",
     "text": [
      "356628 410644 439337 472291\n"
     ]
    }
   ],
   "source": [
    "print(sube2020.shape[0], sube2021.shape[0], sube2022.shape[0], sube2023.shape[0])"
   ]
  },
  {
   "cell_type": "markdown",
   "metadata": {},
   "source": [
    "La cantidad de datos registrados también fue aumentando **notablemente** a lo largo de los años.\n",
    " \n",
    "Finalmente, ya no podemos adjudicar el aumento en forma creciente de nuestro primer gráfico *(unicamente)* a la lenta apertura y normalización de eventos sociales los días sábados, si no que también juega un rol importantisimo el aumento de implementacion de la tarjeta SUBE a lo largo del país, y también la diferencia de datos registrados en cada dataset."
   ]
  },
  {
   "cell_type": "markdown",
   "metadata": {},
   "source": [
    "Para arreglar este último inconveniente, vamos a sacar provecho de nuestra condición de porteños y centrarnos en el *AMBA*"
   ]
  },
  {
   "cell_type": "code",
   "execution_count": 17,
   "metadata": {},
   "outputs": [
    {
     "name": "stdout",
     "output_type": "stream",
     "text": [
      "145156 146796 147240 149973\n"
     ]
    }
   ],
   "source": [
    "print(datos_amba2020.shape[0], datos_amba2021.shape[0], datos_amba2022.shape[0], datos_amba2023.shape[0])"
   ]
  },
  {
   "cell_type": "markdown",
   "metadata": {},
   "source": [
    "¡Ahora nos gusta más!"
   ]
  },
  {
   "cell_type": "markdown",
   "metadata": {},
   "source": [
    "Recordemos que nuestra primera hipótesis sugiere que el uso de transporte en los fines de semana va a ir aumentando de manera creciente durante los años de pandemia, observando mayor pendiente durante 2021, y como ésta se va normalizando en 2022/2023 cuando los eventos sociales volvieron a su plenitud. \n",
    "\n",
    "Ahora, ¿Qué pasa cuando comparamos este comportamiento de fin de semana contra un día habil cualquiera? ¿Crecerán de manera similar?\n",
    "\n",
    "Para esta segunda parte del análisis tomaremos el día *miercoles* (motivados por el inciso 3c, pues vimos que es el día con menor desvío estandar) como día habil de comparación y veremos el crecimiento del uso del transporte durante este día. \n",
    "Nuestra nueva hipótesis es que su crecimiento tendrá **mayor pendiente** a comparación del crecimiento de los fines de semana. \n",
    "\n",
    "La razón es que la gente se vió en la necesidad de salir a trabajar con mucha más urgencia y priorizó resguardarse los fines de semana.\n",
    "\n",
    "Veamos que sucede..."
   ]
  },
  {
   "cell_type": "markdown",
   "metadata": {},
   "source": [
    "Primero recuperamos los findes de semana que son solo del amba"
   ]
  },
  {
   "cell_type": "code",
   "execution_count": 18,
   "metadata": {},
   "outputs": [
    {
     "data": {
      "text/html": [
       "<div>\n",
       "<style scoped>\n",
       "    .dataframe tbody tr th:only-of-type {\n",
       "        vertical-align: middle;\n",
       "    }\n",
       "\n",
       "    .dataframe tbody tr th {\n",
       "        vertical-align: top;\n",
       "    }\n",
       "\n",
       "    .dataframe thead th {\n",
       "        text-align: right;\n",
       "    }\n",
       "</style>\n",
       "<table border=\"1\" class=\"dataframe\">\n",
       "  <thead>\n",
       "    <tr style=\"text-align: right;\">\n",
       "      <th></th>\n",
       "      <th>FECHA_MES</th>\n",
       "      <th>MES_AÑO</th>\n",
       "      <th>CANTIDAD</th>\n",
       "    </tr>\n",
       "  </thead>\n",
       "  <tbody>\n",
       "    <tr>\n",
       "      <th>0</th>\n",
       "      <td>3</td>\n",
       "      <td>Mar-20</td>\n",
       "      <td>13644321.5</td>\n",
       "    </tr>\n",
       "    <tr>\n",
       "      <th>1</th>\n",
       "      <td>4</td>\n",
       "      <td>Apr-20</td>\n",
       "      <td>3942337.5</td>\n",
       "    </tr>\n",
       "    <tr>\n",
       "      <th>2</th>\n",
       "      <td>5</td>\n",
       "      <td>May-20</td>\n",
       "      <td>6403818.0</td>\n",
       "    </tr>\n",
       "    <tr>\n",
       "      <th>3</th>\n",
       "      <td>6</td>\n",
       "      <td>Jun-20</td>\n",
       "      <td>5220798.0</td>\n",
       "    </tr>\n",
       "    <tr>\n",
       "      <th>4</th>\n",
       "      <td>7</td>\n",
       "      <td>Jul-20</td>\n",
       "      <td>4601252.0</td>\n",
       "    </tr>\n",
       "  </tbody>\n",
       "</table>\n",
       "</div>"
      ],
      "text/plain": [
       "   FECHA_MES MES_AÑO    CANTIDAD\n",
       "0          3  Mar-20  13644321.5\n",
       "1          4  Apr-20   3942337.5\n",
       "2          5  May-20   6403818.0\n",
       "3          6  Jun-20   5220798.0\n",
       "4          7  Jul-20   4601252.0"
      ]
     },
     "execution_count": 18,
     "metadata": {},
     "output_type": "execute_result"
    }
   ],
   "source": [
    "def filtrar_procesar_dia(dia):\n",
    "    filtro_dia = lambda x: (x[\"FECHA_DIA\"] == dia) & (x[\"AMBA\"] == \"SI\")\n",
    "    datos_ambaXAño = [filtrarYAgrupar(df, filtro_dia, g_cantXMes) for df in subesTodosLosAños]\n",
    "    datos_amba = pd.concat(datos_ambaXAño, axis=0).reset_index(drop=True)\n",
    "    datos_amba = datos_amba.drop([0,1]).reset_index(drop=True)\n",
    "    return datos_amba\n",
    "\n",
    "Sat_amba = filtrar_procesar_dia(\"Sat\") \n",
    "\n",
    "Sun_amba = filtrar_procesar_dia(\"Sun\")\n",
    "\n",
    "finde_amba = Sun_amba.copy()\n",
    "finde_amba[\"CANTIDAD\"] = (Sat_amba[\"CANTIDAD\"] + Sun_amba[\"CANTIDAD\"])/2\n",
    "#finde_amba = findes[findes[\"AMBA\"] == \"SI\"]\n",
    "finde_amba.head()"
   ]
  },
  {
   "cell_type": "markdown",
   "metadata": {},
   "source": [
    "Generamos los datos del miercoles del amba"
   ]
  },
  {
   "cell_type": "code",
   "execution_count": 19,
   "metadata": {},
   "outputs": [
    {
     "data": {
      "text/html": [
       "<div>\n",
       "<style scoped>\n",
       "    .dataframe tbody tr th:only-of-type {\n",
       "        vertical-align: middle;\n",
       "    }\n",
       "\n",
       "    .dataframe tbody tr th {\n",
       "        vertical-align: top;\n",
       "    }\n",
       "\n",
       "    .dataframe thead th {\n",
       "        text-align: right;\n",
       "    }\n",
       "</style>\n",
       "<table border=\"1\" class=\"dataframe\">\n",
       "  <thead>\n",
       "    <tr style=\"text-align: right;\">\n",
       "      <th></th>\n",
       "      <th>FECHA_MES</th>\n",
       "      <th>MES_AÑO</th>\n",
       "      <th>CANTIDAD</th>\n",
       "    </tr>\n",
       "  </thead>\n",
       "  <tbody>\n",
       "    <tr>\n",
       "      <th>0</th>\n",
       "      <td>3</td>\n",
       "      <td>Mar-20</td>\n",
       "      <td>29779355</td>\n",
       "    </tr>\n",
       "    <tr>\n",
       "      <th>1</th>\n",
       "      <td>4</td>\n",
       "      <td>Apr-20</td>\n",
       "      <td>10284222</td>\n",
       "    </tr>\n",
       "    <tr>\n",
       "      <th>2</th>\n",
       "      <td>5</td>\n",
       "      <td>May-20</td>\n",
       "      <td>11051819</td>\n",
       "    </tr>\n",
       "    <tr>\n",
       "      <th>3</th>\n",
       "      <td>6</td>\n",
       "      <td>Jun-20</td>\n",
       "      <td>11173804</td>\n",
       "    </tr>\n",
       "    <tr>\n",
       "      <th>4</th>\n",
       "      <td>7</td>\n",
       "      <td>Jul-20</td>\n",
       "      <td>11816118</td>\n",
       "    </tr>\n",
       "  </tbody>\n",
       "</table>\n",
       "</div>"
      ],
      "text/plain": [
       "   FECHA_MES MES_AÑO  CANTIDAD\n",
       "0          3  Mar-20  29779355\n",
       "1          4  Apr-20  10284222\n",
       "2          5  May-20  11051819\n",
       "3          6  Jun-20  11173804\n",
       "4          7  Jul-20  11816118"
      ]
     },
     "execution_count": 19,
     "metadata": {},
     "output_type": "execute_result"
    }
   ],
   "source": [
    "f_miercolesHabiles = lambda x: (x[\"FECHA_DIA\"] == \"Wed\") & (x[\"AMBA\"] == \"SI\")\n",
    "g_cantFecha = lambda x: x.groupby([\"FECHA_MES\", \"MES_AÑO\"])[\"CANTIDAD\"].sum().reset_index()\n",
    "miercolesXAño = [filtrarYAgrupar(df,f_miercolesHabiles,g_cantFecha) for df in subesTodosLosAños]\n",
    "miercoles_amba = pd.concat(miercolesXAño, axis = 0).reset_index(drop=True)\n",
    "miercoles_amba = miercoles_amba.drop([0, 1]).reset_index(drop=True)\n",
    "miercoles_amba.head()"
   ]
  },
  {
   "cell_type": "markdown",
   "metadata": {},
   "source": [
    "Grafiquemoslos y veamos si hay diferencias"
   ]
  },
  {
   "cell_type": "code",
   "execution_count": 20,
   "metadata": {},
   "outputs": [
    {
     "data": {
      "image/png": "[encoded data removed]",
      "text/plain": [
       "<Figure size 640x480 with 1 Axes>"
      ]
     },
     "metadata": {},
     "output_type": "display_data"
    }
   ],
   "source": [
    "fig, ax = plt.subplots()\n",
    "ax.xaxis.set_tick_params(rotation=90)\n",
    "finde = (\n",
    "so.Plot(finde_amba, \"MES_AÑO\", \"CANTIDAD\")\n",
    ".add(so.Bars(color = \"orange\"))\n",
    ".add(so.Line(color = \"brown\", linewidth = 4), so.PolyFit(4))\n",
    ".label(title= \"FINDES | AMBA | 2020-2023\", x=\"Meses\", y=\"Pasajeros\")\n",
    ".scale(width=12, height=6)\n",
    ".on(ax)\n",
    ")\n",
    "finde.show()"
   ]
  },
  {
   "cell_type": "code",
   "execution_count": 21,
   "metadata": {},
   "outputs": [
    {
     "data": {
      "image/png": "[encoded data removed]",
      "text/plain": [
       "<Figure size 640x480 with 1 Axes>"
      ]
     },
     "metadata": {},
     "output_type": "display_data"
    }
   ],
   "source": [
    "fig, ax = plt.subplots()\n",
    "ax.xaxis.set_tick_params(rotation=90)\n",
    "mier = (\n",
    "so.Plot(miercoles_amba, \"MES_AÑO\", \"CANTIDAD\")\n",
    ".add(so.Bars(color = \"olive\"))\n",
    ".add(so.Line(color = \"forestgreen\", linewidth = 4), so.PolyFit(4))\n",
    ".label(title= \"MIERCOLES | AMBA | 2020-2023\", x=\"Meses\", y=\"Pasajeros\")\n",
    ".scale(width=12, height=6)\n",
    ".on(ax)\n",
    ")\n",
    "mier.show()"
   ]
  },
  {
   "cell_type": "markdown",
   "metadata": {},
   "source": [
    "Bueno... a priori los crecimientos de ambos gráficos parecen bastante similares. :-( \n",
    "Pero notemos que ambos gráficos utilizan escálas distintas, veamos que sucede cuando comparamos los datos del miercoles contra los datos de fin de semana en un mismo gráfico"
   ]
  },
  {
   "cell_type": "code",
   "execution_count": 22,
   "metadata": {},
   "outputs": [
    {
     "data": {
      "image/png": "[encoded data removed]",
      "text/plain": [
       "<Figure size 640x480 with 1 Axes>"
      ]
     },
     "metadata": {},
     "output_type": "display_data"
    }
   ],
   "source": [
    "fig, ax = plt.subplots()\n",
    "ax.xaxis.set_tick_params(rotation=90)\n",
    "g = (\n",
    "so.Plot()\n",
    ".add(so.Bars(color = \"orange\"), data = miercoles_amba, x = \"MES_AÑO\", y = \"CANTIDAD\")\n",
    ".add(so.Bars(color = \"olive\"), data = finde_amba, x = \"MES_AÑO\", y = \"CANTIDAD\")\n",
    ".add(so.Line(color = \"brown\", linewidth = 3), so.PolyFit(4), data = miercoles_amba, x = \"MES_AÑO\", y = \"CANTIDAD\")\n",
    ".add(so.Line(color = \"forestgreen\", linewidth = 3), so.PolyFit(4), data = finde_amba, x = \"MES_AÑO\", y = \"CANTIDAD\")\n",
    ".label(title = \"MIERCOLES vs FINDE | AMBA | 2020-2023\", x = \"fecha\", y = \"pasajeros\")\n",
    ".on(ax)\n",
    "\n",
    ")\n",
    "# Mostrar el gráfico\n",
    "g.show()"
   ]
  },
  {
   "cell_type": "markdown",
   "metadata": {},
   "source": [
    "Viendo el gráfico notamos 3 etapas interesantes con respecto al crecimiento.\n",
    "\n",
    "$$  \\color{lightcoral}{\\text{Etapa 1 : Marzo 2020 - Diciembre 2020}} \\ \\ $$\n",
    "\n",
    "En esta primera etapa notamos un crecimiento bastante similar entre Miercoles y Finde. \n",
    "Coincide con el inicio de la pandemia y cuarentena estricta; gran parte de estos meses el aislamiento fue *obligatorio* y solo unos pocos contaban con permisos para usar libremente el transporte público. Por lo tanto es lógico que no notemos mucha diferencia entre el crecimiento de ambos.\n",
    "\n",
    "$$  \\color{gold}{\\text{Etapa 2 : Diciembre 2020 - Agosto 2022}} \\ \\ $$\n",
    "\n",
    "En esta segunda etapa observamos que el crecimiento de Miercoles \"despega\" de manera pronunciada en comparación al crecimiento más gradual de Finde. Coincide con la flexibilización de las restricciones impuestas por el aislamiento. Despues de varios meses en cuarentena, la gente se ve en la necesidad de volver a retomar trabajos presenciales, lo que aumenta la cantidad de viajes en día habil. En cambio el gráfico pareceria indicar que el movimiento en los fines de semana aumenta de forma más gradual. Pareceria que la gente se vió en la necesidad de salir a trabajar pero todavía eligen resguardarse los fines de semana. \n",
    "\n",
    "$$  \\color{palegreen}{\\text{Etapa 3 : Agosto 2022 - Diciembre 2023}} \\ \\ $$\n",
    "\n",
    "En esta tercera etapa ambos crecimientos vuelven a aumentar de forma similar. Esto coincide con el fin de la pandemia, la cuarentena y las restricciones de aislamiento. Se vuelve a la \"nueva normalidad\" y ambos crecimientos parecen normalizarse. \n"
   ]
  },
  {
   "cell_type": "markdown",
   "metadata": {},
   "source": [
    "Veamos estas 3 etapas gráficamente! "
   ]
  },
  {
   "cell_type": "code",
   "execution_count": 23,
   "metadata": {},
   "outputs": [
    {
     "data": {
      "image/png": "[encoded data removed]",
      "text/plain": [
       "<Figure size 640x480 with 1 Axes>"
      ]
     },
     "metadata": {},
     "output_type": "display_data"
    }
   ],
   "source": [
    "#Rotamos los indices del eje x\n",
    "fig, ax = plt.subplots()\n",
    "ax.xaxis.set_tick_params(rotation=90)\n",
    "g = (\n",
    "so.Plot()\n",
    ".add(so.Bars(color = \"silver\"), data = miercoles_amba, x = \"MES_AÑO\", y = \"CANTIDAD\")\n",
    ".add(so.Bars(color = \"dimgrey\"), data = finde_amba, x = \"MES_AÑO\", y = \"CANTIDAD\")\n",
    ".label(title = \"MIERCOLES vs FINDE | AMBA | 2020-2023\", x = \"fecha\", y = \"pasajeros\",)\n",
    ".on(ax)\n",
    "\n",
    ")\n",
    "\n",
    "#Divido las tres etapas por colores\n",
    "ax.axvspan(0, 11, facecolor='lightcoral', alpha=0.5, zorder=0, label = \"ETAPA 1\")\n",
    "ax.axvspan(11, 30, facecolor='gold', alpha=0.5, zorder=0, label = \"ETAPA 2\")\n",
    "ax.axvspan(30, 47, facecolor='palegreen', alpha=0.5, zorder=0, label = \"ETAPA 3\")\n",
    "ax.legend()\n",
    "g.show()"
   ]
  },
  {
   "cell_type": "markdown",
   "metadata": {},
   "source": [
    "# 5. Modelado"
   ]
  },
  {
   "cell_type": "markdown",
   "metadata": {},
   "source": [
    "\n",
    "*Antes de empezar* vamos a realizar un poco de preprocesamiento sobre los datos en los que trabajaremos"
   ]
  },
  {
   "cell_type": "code",
   "execution_count": 24,
   "metadata": {},
   "outputs": [],
   "source": [
    "sube_regresion = pd.read_csv(\"sube-2023-regresion.csv\")"
   ]
  },
  {
   "cell_type": "markdown",
   "metadata": {},
   "source": [
    "Tomamos los datos de todas las lineas del amba, que tengan jurisdiccion nacional"
   ]
  },
  {
   "cell_type": "code",
   "execution_count": 25,
   "metadata": {},
   "outputs": [
    {
     "data": {
      "text/html": [
       "<div>\n",
       "<style scoped>\n",
       "    .dataframe tbody tr th:only-of-type {\n",
       "        vertical-align: middle;\n",
       "    }\n",
       "\n",
       "    .dataframe tbody tr th {\n",
       "        vertical-align: top;\n",
       "    }\n",
       "\n",
       "    .dataframe thead th {\n",
       "        text-align: right;\n",
       "    }\n",
       "</style>\n",
       "<table border=\"1\" class=\"dataframe\">\n",
       "  <thead>\n",
       "    <tr style=\"text-align: right;\">\n",
       "      <th></th>\n",
       "      <th>DIA_TRANSPORTE</th>\n",
       "      <th>BS_ASLINEA_123</th>\n",
       "      <th>BSAS_LINEA_002</th>\n",
       "      <th>BSAS_LINEA_009</th>\n",
       "      <th>BSAS_LINEA_010</th>\n",
       "      <th>BSAS_LINEA_015</th>\n",
       "      <th>BSAS_LINEA_017</th>\n",
       "      <th>BSAS_LINEA_019</th>\n",
       "      <th>BSAS_LINEA_020</th>\n",
       "      <th>BSAS_LINEA_021</th>\n",
       "      <th>...</th>\n",
       "      <th>LINEA 4</th>\n",
       "      <th>LINEA 42</th>\n",
       "      <th>LINEA 44</th>\n",
       "      <th>LINEA 50</th>\n",
       "      <th>LINEA 6</th>\n",
       "      <th>LINEA 7</th>\n",
       "      <th>LINEA 76</th>\n",
       "      <th>LINEA 8</th>\n",
       "      <th>LINEA_099</th>\n",
       "      <th>LINEA_164_AMBA</th>\n",
       "    </tr>\n",
       "  </thead>\n",
       "  <tbody>\n",
       "    <tr>\n",
       "      <th>0</th>\n",
       "      <td>2023-01-01</td>\n",
       "      <td>1681</td>\n",
       "      <td>5670</td>\n",
       "      <td>5644</td>\n",
       "      <td>5177</td>\n",
       "      <td>9109</td>\n",
       "      <td>7013</td>\n",
       "      <td>1604</td>\n",
       "      <td>2617</td>\n",
       "      <td>11235</td>\n",
       "      <td>...</td>\n",
       "      <td>2942</td>\n",
       "      <td>4029</td>\n",
       "      <td>4649</td>\n",
       "      <td>4839</td>\n",
       "      <td>2449</td>\n",
       "      <td>2184</td>\n",
       "      <td>3797</td>\n",
       "      <td>5317</td>\n",
       "      <td>1882</td>\n",
       "      <td>3210</td>\n",
       "    </tr>\n",
       "    <tr>\n",
       "      <th>1</th>\n",
       "      <td>2023-01-02</td>\n",
       "      <td>9440</td>\n",
       "      <td>21759</td>\n",
       "      <td>23284</td>\n",
       "      <td>21176</td>\n",
       "      <td>45269</td>\n",
       "      <td>29962</td>\n",
       "      <td>13921</td>\n",
       "      <td>11934</td>\n",
       "      <td>55611</td>\n",
       "      <td>...</td>\n",
       "      <td>15329</td>\n",
       "      <td>19072</td>\n",
       "      <td>20387</td>\n",
       "      <td>16221</td>\n",
       "      <td>10486</td>\n",
       "      <td>12774</td>\n",
       "      <td>17374</td>\n",
       "      <td>23250</td>\n",
       "      <td>10322</td>\n",
       "      <td>19362</td>\n",
       "    </tr>\n",
       "    <tr>\n",
       "      <th>2</th>\n",
       "      <td>2023-01-04</td>\n",
       "      <td>10540</td>\n",
       "      <td>24755</td>\n",
       "      <td>25405</td>\n",
       "      <td>23806</td>\n",
       "      <td>52873</td>\n",
       "      <td>33659</td>\n",
       "      <td>16172</td>\n",
       "      <td>13366</td>\n",
       "      <td>61721</td>\n",
       "      <td>...</td>\n",
       "      <td>17836</td>\n",
       "      <td>21609</td>\n",
       "      <td>23595</td>\n",
       "      <td>18448</td>\n",
       "      <td>12193</td>\n",
       "      <td>13949</td>\n",
       "      <td>19860</td>\n",
       "      <td>26294</td>\n",
       "      <td>11981</td>\n",
       "      <td>21784</td>\n",
       "    </tr>\n",
       "    <tr>\n",
       "      <th>3</th>\n",
       "      <td>2023-01-05</td>\n",
       "      <td>10408</td>\n",
       "      <td>25772</td>\n",
       "      <td>26489</td>\n",
       "      <td>24688</td>\n",
       "      <td>53436</td>\n",
       "      <td>35182</td>\n",
       "      <td>16569</td>\n",
       "      <td>12929</td>\n",
       "      <td>62510</td>\n",
       "      <td>...</td>\n",
       "      <td>18044</td>\n",
       "      <td>21993</td>\n",
       "      <td>23687</td>\n",
       "      <td>18481</td>\n",
       "      <td>12888</td>\n",
       "      <td>14668</td>\n",
       "      <td>21235</td>\n",
       "      <td>27216</td>\n",
       "      <td>11787</td>\n",
       "      <td>22972</td>\n",
       "    </tr>\n",
       "    <tr>\n",
       "      <th>4</th>\n",
       "      <td>2023-01-06</td>\n",
       "      <td>10530</td>\n",
       "      <td>26021</td>\n",
       "      <td>26458</td>\n",
       "      <td>24167</td>\n",
       "      <td>53163</td>\n",
       "      <td>35212</td>\n",
       "      <td>16459</td>\n",
       "      <td>12955</td>\n",
       "      <td>63528</td>\n",
       "      <td>...</td>\n",
       "      <td>18122</td>\n",
       "      <td>22421</td>\n",
       "      <td>23731</td>\n",
       "      <td>19300</td>\n",
       "      <td>12703</td>\n",
       "      <td>14199</td>\n",
       "      <td>23472</td>\n",
       "      <td>27073</td>\n",
       "      <td>11567</td>\n",
       "      <td>23411</td>\n",
       "    </tr>\n",
       "  </tbody>\n",
       "</table>\n",
       "<p>5 rows × 125 columns</p>\n",
       "</div>"
      ],
      "text/plain": [
       "  DIA_TRANSPORTE  BS_ASLINEA_123  BSAS_LINEA_002  BSAS_LINEA_009  \\\n",
       "0     2023-01-01            1681            5670            5644   \n",
       "1     2023-01-02            9440           21759           23284   \n",
       "2     2023-01-04           10540           24755           25405   \n",
       "3     2023-01-05           10408           25772           26489   \n",
       "4     2023-01-06           10530           26021           26458   \n",
       "\n",
       "   BSAS_LINEA_010  BSAS_LINEA_015  BSAS_LINEA_017  BSAS_LINEA_019  \\\n",
       "0            5177            9109            7013            1604   \n",
       "1           21176           45269           29962           13921   \n",
       "2           23806           52873           33659           16172   \n",
       "3           24688           53436           35182           16569   \n",
       "4           24167           53163           35212           16459   \n",
       "\n",
       "   BSAS_LINEA_020  BSAS_LINEA_021  ...  LINEA 4  LINEA 42  LINEA 44  LINEA 50  \\\n",
       "0            2617           11235  ...     2942      4029      4649      4839   \n",
       "1           11934           55611  ...    15329     19072     20387     16221   \n",
       "2           13366           61721  ...    17836     21609     23595     18448   \n",
       "3           12929           62510  ...    18044     21993     23687     18481   \n",
       "4           12955           63528  ...    18122     22421     23731     19300   \n",
       "\n",
       "   LINEA 6  LINEA 7  LINEA 76  LINEA 8  LINEA_099  LINEA_164_AMBA  \n",
       "0     2449     2184      3797     5317       1882            3210  \n",
       "1    10486    12774     17374    23250      10322           19362  \n",
       "2    12193    13949     19860    26294      11981           21784  \n",
       "3    12888    14668     21235    27216      11787           22972  \n",
       "4    12703    14199     23472    27073      11567           23411  \n",
       "\n",
       "[5 rows x 125 columns]"
      ]
     },
     "metadata": {},
     "output_type": "display_data"
    }
   ],
   "source": [
    "datos_ColectivoJN = sube_regresion[(sube_regresion[\"TIPO_TRANSPORTE\"] == \"COLECTIVO\") & (sube_regresion[\"JURISDICCION\"] == \"NACIONAL\") &(sube_regresion[\"AMBA\"] == \"SI\") ]\n",
    "cols = datos_ColectivoJN.LINEA.unique() # Los nombres de las lineas de colectivo\n",
    "pasajeros_por_linea = pd.DataFrame()\n",
    "for col in cols:\n",
    "    datos_linea = datos_ColectivoJN [datos_ColectivoJN.LINEA == col][[\"DIA_TRANSPORTE\",\"CANTIDAD\"]]\n",
    "    datos_linea = datos_linea.set_index (\"DIA_TRANSPORTE\").rename(columns ={\"CANTIDAD\" : col })\n",
    "    pasajeros_por_linea = pd.concat ([ pasajeros_por_linea ,datos_linea ], axis = 1)\n",
    "pasajeros_por_linea = pasajeros_por_linea.reset_index()\n",
    "\n",
    "#Tiramos las columnas con datos faltantes\n",
    "pasajeros_por_linea =pasajeros_por_linea.dropna(axis=1)\n",
    "display(pasajeros_por_linea.head())\n"
   ]
  },
  {
   "cell_type": "markdown",
   "metadata": {},
   "source": [
    "Para hacer mas simple la visualizacion , y contemplando que solo vamos a trabajar con un año, vamos a cambiar las \"fechas\" por su dias"
   ]
  },
  {
   "cell_type": "code",
   "execution_count": 26,
   "metadata": {},
   "outputs": [],
   "source": [
    "pasajeros_por_linea[\"DIA_TRANSPORTE\"] = pd.to_datetime(pasajeros_por_linea[\"DIA_TRANSPORTE\"],format = \"%Y-%m-%d\").dt.dayofyear"
   ]
  },
  {
   "cell_type": "markdown",
   "metadata": {},
   "source": [
    "*Primera seleccion:*\n",
    "\n",
    "En primer lugar, vamos a tomar algunos colectivos cuyos recorridos sean *similares* a la Linea 9. Despues de investigar un poco , creamos este mapa donde podemos visualizar los recorridos de nuestras 4 elecciones, junto con la Linea 9:\n",
    "\n",
    "<img src=\"recorridosLineas.jpeg\"   width=\"1000\" height=\"500\">\n",
    "\n",
    "Los colores representan :\n",
    "\n",
    "$$\\color{lightblue}{\\text{Linea 45}} \\ \\\n",
    "\n",
    "\\color{purple}{\\text{Linea 93}} \\ \\ \n",
    " \n",
    "\\color{blue}{\\text{Linea 37}} \\ \\\n",
    "\n",
    "\\color{green}{\\text{Linea 28}} \\ \\\n",
    "\n",
    "\\color{pink}{\\text{Linea 9}}$$"
   ]
  },
  {
   "cell_type": "markdown",
   "metadata": {},
   "source": [
    "Antes de formular los modelos , necesitamos recuperar los nombres de cada linea en el dataSet. \n"
   ]
  },
  {
   "cell_type": "code",
   "execution_count": 27,
   "metadata": {},
   "outputs": [
    {
     "name": "stdout",
     "output_type": "stream",
     "text": [
      "['BSAS_LINEA_045', 'BSAS_LINEA_093', 'BSAS_LINEA_037', 'LINEA 28']\n"
     ]
    }
   ],
   "source": [
    "def buscaNomLinea(df,numLinea) -> str:\n",
    "    nombreLinea = \"\"\n",
    "    for nombre in pd.Series(df.columns):\n",
    "        if numLinea in nombre:\n",
    "            nombreLinea = nombre\n",
    "            break\n",
    "    return nombreLinea\n",
    "\n",
    "aBuscar = [\"45\",\"93\",\"37\",\" 28\"]\n",
    "nomLineas = [buscaNomLinea(pasajeros_por_linea,name) for name in aBuscar]\n",
    "#Checkeamos que sean las que buscamos\n",
    "print(nomLineas)\n"
   ]
  },
  {
   "cell_type": "markdown",
   "metadata": {},
   "source": [
    "Le cambiamos el nombre a la linea 28 para tener consistencia entre los nombres"
   ]
  },
  {
   "cell_type": "code",
   "execution_count": 28,
   "metadata": {},
   "outputs": [],
   "source": [
    "pasajeros_por_linea = pasajeros_por_linea.rename(columns = {\"LINEA 28\" : \"BSAS_LINEA_28\"} )"
   ]
  },
  {
   "cell_type": "markdown",
   "metadata": {},
   "source": [
    "Dado que todas las lineas tienen recorridos similares, no es evidente que hubiese ninguna interaccion entre ellas. Asi que vamos a plantear un modelo simple:\n",
    "- Linea 9 ~  *(Linea_45 + Linea_93 + Linea_37 + Linea_28)*\n",
    " \n",
    "Ajustemos el model con todos los datos y veamos el R2, junto con el RECM"
   ]
  },
  {
   "cell_type": "code",
   "execution_count": 29,
   "metadata": {},
   "outputs": [
    {
     "name": "stdout",
     "output_type": "stream",
     "text": [
      "El r2 es de 0.9325555344310024, la Raiz del ECM es : 2614.644888474183\n"
     ]
    }
   ],
   "source": [
    "formula_1=\"BSAS_LINEA_009 ~ BSAS_LINEA_045 + BSAS_LINEA_093 + BSAS_LINEA_037 + BSAS_LINEA_28\"\n",
    "modelo = linear_model.LinearRegression()\n",
    "#Generamos la matriz para \"entrenar\" el modelo\n",
    "y,X = Formula(formula_1).get_model_matrix(pasajeros_por_linea)\n",
    "#Ajustamos el modelo\n",
    "modelo.fit(X,y)\n",
    "y_pred = modelo.predict(X) \n",
    "\n",
    "print( \"El r2 es de {0}, la Raiz del ECM es : {1}\".format(r2_score(y,y_pred),np.sqrt(mean_squared_error(y,y_pred))))\n"
   ]
  },
  {
   "cell_type": "markdown",
   "metadata": {},
   "source": [
    "Nada mal! A primera vista, con este testeo sencillo obtuvimos un R2 bastante decente. Sin embargo nos gustaría tener un criterio de selección mas robusto para nuestras lineas. Ver \"a ojo\" cuales tienen recorridos similares puede no ser suficiente, ademas de limitarnos en las relaciones que las lineas pueden tener entre ellas. Vamos a definir que quiere decir que lineas de colectivo sean \"similares\" en comportamiento a la linea 9\n",
    "\n",
    "*Segunda seleccion:*\n",
    "\n",
    "Nuestro criterio entonces, será el siguiente:\n",
    "\n",
    "- Vamos a buscar la linea cuya diferencia maxima de la cantidad de pasajeros contra la linea 9 entre todos los dias sea la minima posible .\n",
    "Formalmente:"
   ]
  },
  {
   "cell_type": "markdown",
   "metadata": {},
   "source": [
    "$$\n",
    "\\begin{align*}\n",
    "&\\text{Sea } \\textbf{L} = \\{L_1, L_2, ..., L_n\\} \\text{ el conjunto de todas las líneas de colectivo (salvo la linea 9) y } \\textbf{Dias} = \\{d_1, d_2, ..., d_n\\} \\ \\text{el conjunto de dias en el dataset} \\\\\n",
    "&\\text{Para cada línea } L_i \\text{ en } \\textbf{L}, \\text{ sea } P_{L_i}(d) \\text{ la cantidad de pasajeros en la línea } L_i \\text{ en el día } d. \\ \\text{Sea } P_9(d) \\text{ la cantidad de pasajeros en la línea 9 en el día } d. \\\\\n",
    "&\\text{Definimos la función } f : \\mathbb{N} \\rightarrow \\mathbb{N} \\text{ como:} \\\\\n",
    "\\\\\n",
    "&\\begin{equation*}\n",
    "    f(L_i) =  \\max_{d \\in \\textbf{Dias}} \\left| P_{L_i}(d) - P_9(d) \\right|\n",
    "\\end{equation*} \\\\\n",
    "\\\\\n",
    "&\\text{La linea óptima } L_{opt} \\text{ es aquella que minimiza la función } f(L), \\\\\n",
    "\\end{align*}\n",
    "$$\n"
   ]
  },
  {
   "cell_type": "markdown",
   "metadata": {},
   "source": [
    "Busquemos nuestra $L_{opt}$ junto con las 4 siguientes mejores $L's$:"
   ]
  },
  {
   "cell_type": "code",
   "execution_count": 30,
   "metadata": {},
   "outputs": [
    {
     "name": "stdout",
     "output_type": "stream",
     "text": [
      "[('BSAS_LINEA_091', 11175), ('BSAS_LINEA_135', 11529), ('BSAS_LINEA_146', 11530), ('LINEA_164_AMBA', 11633), ('BSAS_LINEA_188', 11988)]\n"
     ]
    }
   ],
   "source": [
    "def difMaximaLinea9(L) -> int:\n",
    "    #Definicion de funcion f(L)\n",
    "    difMax = abs(pasajeros_por_linea[L]-pasajeros_por_linea[\"BSAS_LINEA_009\"]).max()\n",
    "    return difMax\n",
    "\n",
    "def encontrarMejoresNLineas(n) -> list:\n",
    "    #Genero diferencias de c/u con la linea 9\n",
    "    diferencias = {linea : difMaximaLinea9(linea) for linea in pasajeros_por_linea.columns if linea != \"BSAS_LINEA_009\"}\n",
    "    #Ordeno por las diferencias de manera creciente, y me quedo con las n primeras\n",
    "    mejoresLineas = sorted(diferencias.items(),key = lambda x : x[1])[:n]\n",
    "    return mejoresLineas\n",
    "\n",
    "L_optimas = encontrarMejoresNLineas(5)\n",
    "print(L_optimas)"
   ]
  },
  {
   "cell_type": "markdown",
   "metadata": {},
   "source": [
    "Ya tenemos nuestras Lineas predictoras! Observemos que ninguna de ellas son las mismas que elegimos antes. Planteemos ahora el mismo modelo sencillo y veamos si hay diferencia:\n",
    "\n",
    "- Linea 9 ~ *Linea 91 + Linea 135 + Linea 146 + Linea 164 + Linea 188*\n"
   ]
  },
  {
   "cell_type": "code",
   "execution_count": 31,
   "metadata": {},
   "outputs": [
    {
     "name": "stdout",
     "output_type": "stream",
     "text": [
      "El r2 es de 0.959267099071292, la raiz del ECM es : 2031.946291823388\n"
     ]
    }
   ],
   "source": [
    "formula_2=\"BSAS_LINEA_009 ~ BSAS_LINEA_091 + BSAS_LINEA_135 + BSAS_LINEA_146 + LINEA_164_AMBA + BSAS_LINEA_188\"\n",
    "modelo = linear_model.LinearRegression()\n",
    "#Generamos la matriz a partir de la formula para \"entrenar\" al modelo\n",
    "y,X = Formula(formula_2).get_model_matrix(pasajeros_por_linea)\n",
    "#Ajustamos el modelo\n",
    "modelo.fit(X,y)\n",
    "y_pred = modelo.predict(X)\n",
    "\n",
    "\n",
    "print( \"El r2 es de {0}, la raiz del ECM es : {1}\".format(r2_score(y,y_pred),np.sqrt(mean_squared_error(y,y_pred))))"
   ]
  },
  {
   "cell_type": "markdown",
   "metadata": {},
   "source": [
    "Eureka! Inmediatamente en el testeo simple nuestro R2 subio casi 0,03 puntos. "
   ]
  },
  {
   "cell_type": "markdown",
   "metadata": {},
   "source": [
    "Como 3er modelo, planteemos alguna relacion con estos mismos colectivos. No seria poco razonable pensar, que ya  que las lineas de colectivo son parte de un sistema de transporte unficado, que estas mismas dinamica deberia verse reflejada en el modelo.\n",
    "Si queremos representar todas las posibles relaciones entre ellos, nuestro modelo *(en notacion wilkinson)*  queda de la siguiente manera:\n",
    "\n",
    "- Linea 9 ~  *(Linea_45 + Linea_93 + Linea_37 + Linea_28)* * *(Linea_45 + Linea_93 + Linea_37 + Linea_28)*\n",
    "\n",
    "Este modelo es naturalmente bastante mas complejo que el anterior, y esto podria llegar a ser problematico. No obstante veamos que obtenemos como resultado"
   ]
  },
  {
   "cell_type": "code",
   "execution_count": 32,
   "metadata": {},
   "outputs": [
    {
     "name": "stdout",
     "output_type": "stream",
     "text": [
      "El r2 es de 0.9623790742493384, la raiz del ECM es : 1952.7843826969777\n"
     ]
    }
   ],
   "source": [
    "formula_3=\"BSAS_LINEA_009 ~ (BSAS_LINEA_091 + BSAS_LINEA_135 + BSAS_LINEA_146 + LINEA_164_AMBA + BSAS_LINEA_188)*(BSAS_LINEA_091 + BSAS_LINEA_135 + BSAS_LINEA_146 + LINEA_164_AMBA + BSAS_LINEA_188)\"\n",
    "modelo = linear_model.LinearRegression()\n",
    "#Generamos la matriz a partir de la formula para \"entrenar\" al modelo\n",
    "y,X = Formula(formula_3).get_model_matrix(pasajeros_por_linea)\n",
    "#Ajustamos el modelo\n",
    "modelo.fit(X,y)\n",
    "y_pred = modelo.predict(X)\n",
    "\n",
    "print( \"El r2 es de {0}, la raiz del ECM es : {1}\".format(r2_score(y,y_pred),np.sqrt(mean_squared_error(y,y_pred))))\n"
   ]
  },
  {
   "cell_type": "markdown",
   "metadata": {},
   "source": [
    "Obtuvimos otra mejora! Esto era de esperarse, ya que la complejidad del modelo subio bastante. ¿Sera cierto que este es mejor que los demas? ¿Habra Overfitting en algun modelo? \n",
    "\n",
    "Vamos a utlizar la tecnica de validacion cruzada entre los 3 modelos para elegir nuestro ganador. \n",
    "\n",
    " - Primero separamos los datos en Training y Testing, luego realizammos el training sobre nuestro k-folds , tomando siempre la raiz del error cuadratico medio(RMSE) en cada uno.\n",
    "  \n",
    " - Luego tomamos el promedio de esto ultimos y repetimos. Aquella formula que consiga tener el menor RMSE medio sera la ganadora.\n",
    " Con esta entrenaremos sobre el total del conjunto de entrenamiento, calcularemos el error en contra de los datos de testing finales"
   ]
  },
  {
   "cell_type": "code",
   "execution_count": 33,
   "metadata": {},
   "outputs": [
    {
     "name": "stdout",
     "output_type": "stream",
     "text": [
      "Modelo ganador,BSAS_LINEA_009 ~ BSAS_LINEA_091 + BSAS_LINEA_135 + BSAS_LINEA_146 + LINEA_164_AMBA + BSAS_LINEA_188  \n",
      " Resultados sobre testeo:  R2 : 0.9760388602711159 , RECM :1654.9008091866494  \n"
     ]
    }
   ],
   "source": [
    "formulas = [formula_1,formula_2,formula_3]\n",
    "X = [0]*len(formulas)\n",
    "Modelos = [linear_model.LinearRegression(fit_intercept= False)]*3\n",
    "#Separo en train y testing\n",
    "df_train,df_test = train_test_split(pasajeros_por_linea,test_size=0.2, random_state= 2355)\n",
    "MejorModelo = {\"rmseMean\" : 1e8 , \"formula\" : \"\"}\n",
    "cant_folds = 6\n",
    "\n",
    "#Aca voy a guardar la media de todos los RMSE en cada K-Fold , para cada modelo respectivamente \n",
    "rmseMean = np.zeros(len(formulas))\n",
    "for i in range(0,len(formulas)):\n",
    "  y,X[i] = Formula(formulas[i]).get_model_matrix(df_train)\n",
    "  #Obtenemos los indices de los cortes\n",
    "  cv = KFold(n_splits = cant_folds ,random_state = 1523, shuffle = True)\n",
    "  #A partir de esto obtengo un lazy iterator\n",
    "  rmse = np.zeros(cant_folds)\n",
    "  ind = 0\n",
    "  #Entrenamos sobre todos los folds\n",
    "  for train_index, val_index in cv.split(X[i]):\n",
    "    x_train,x_val,y_train,y_val = X[i].iloc[train_index],X[i].iloc[val_index], y.iloc[train_index],y.iloc[val_index]\n",
    "\n",
    "    Modelos[i].fit(x_train,y_train)\n",
    "    y_pred = Modelos[i].predict(x_val)\n",
    "    rmse[ind] = np.sqrt(mean_squared_error(y_val,y_pred))\n",
    "    ind = ind + 1\n",
    "  \n",
    "  rmseMean[i] = rmse.mean()\n",
    " \n",
    "  \n",
    "  if rmseMean[i] < MejorModelo[\"rmseMean\"]:\n",
    "    MejorModelo[\"rmseMean\"] = rmseMean[i] \n",
    "    MejorModelo[\"formula\"] = formulas[i] \n",
    "\n",
    "  \n",
    "\n",
    "#Entrenamos sobre todo el conjunto de entrenamiento (validacion + entrenamiento)\n",
    "i_Best = formulas.index(MejorModelo[\"formula\"])\n",
    "f_Best = MejorModelo[\"formula\"]\n",
    "\n",
    "Modelos[i_Best].fit(X[i_Best],y)\n",
    "\n",
    "#Ahora comparamos con la parte que no usamos originalmente\n",
    "y_test, x_test = Formula(f_Best).get_model_matrix(df_test)\n",
    "\n",
    "y_pred = Modelos[i_Best].predict(x_test)\n",
    "RECM =  np.sqrt(mean_squared_error(y_test,y_pred))\n",
    "R2 = r2_score(y_test,y_pred)\n",
    "print(\"Modelo ganador,{0}  \\n Resultados sobre testeo:  R2 : {1} , RECM :{2}  \".format(f_Best, R2,RECM))"
   ]
  },
  {
   "cell_type": "markdown",
   "metadata": {},
   "source": [
    "Tenemos un ganador! Parece que e el 3er modelo teniamos bastante overfitting, ya que un modelo bastante mas simple pudo obtener mejores resultados en el testeo. No obstante , nuestra metodo de seleccion de colectivos un poco mas *analitico* parece haber sido mas eficaz que nuestro primer intento mas ad-hoc\n",
    "\n",
    "\n",
    "Grafiquemos entonces el modelo resultante, comparandolo con los datos reales de la linea 9\n"
   ]
  },
  {
   "cell_type": "code",
   "execution_count": 34,
   "metadata": {},
   "outputs": [
    {
     "data": {
      "image/png": "[encoded data removed]",
      "text/plain": [
       "<Figure size 640x480 with 1 Axes>"
      ]
     },
     "metadata": {},
     "output_type": "display_data"
    }
   ],
   "source": [
    "y,Dominio = Formula(formula_2).get_model_matrix(pasajeros_por_linea)\n",
    "y_pred = Modelos[1].predict(Dominio)\n",
    "\n",
    "grafico = (\n",
    " so.Plot(data=pasajeros_por_linea, x = \"DIA_TRANSPORTE\", y =\"BSAS_LINEA_009\")\n",
    " .add(so.Bar(color = \"olive\",alpha= 0.5),label = \"Linea 9\") \n",
    " .add(so.Line(color = \"orange\"),y = y_pred.flatten(),label = \"Modelo 2\")\n",
    " .label(title =\"Modelo Ganador vs Datos de la primera mitad del año\",x = \"Dias del año\", y = \"Pasajeros\")\n",
    " .limit(x=(1,130))\n",
    ")\n",
    "grafico.show()\n"
   ]
  },
  {
   "cell_type": "markdown",
   "metadata": {},
   "source": [
    "El modelo tiene un comportamiento algo erratico, pero esta era de esperarse, despues de todo estamos eligiendo un modelo lineal, intentando predecir un fenomeno que oscila mucho dentro de intervalos muy pequeños de tiempo. No obstante la prediccion no se ajusta nada mal a la realidad de lo datos.\n",
    "\n",
    "Por lo tanto\n",
    " nuestra formula *ganadora* fue : **Linea 9 ~ Linea 91 + Linea 135 + Linea 146 + Linea 164 + Linea 188**"
   ]
  }
 ],
 "metadata": {
  "kernelspec": {
   "display_name": "Python 3",
   "language": "python",
   "name": "python3"
  },
  "language_info": {
   "codemirror_mode": {
    "name": "ipython",
    "version": 3
   },
   "file_extension": ".py",
   "mimetype": "text/x-python",
   "name": "python",
   "nbconvert_exporter": "python",
   "pygments_lexer": "ipython3",
   "version": "3.10.12"
  }
 },
 "nbformat": 4,
 "nbformat_minor": 2
}
